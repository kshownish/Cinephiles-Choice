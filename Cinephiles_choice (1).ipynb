{
 "cells": [
  {
   "cell_type": "markdown",
   "id": "adb4a0fe-32a9-452f-9517-54d4d458d604",
   "metadata": {},
   "source": [
    "# 🎬 Genre-Based Movie Recommendation System\n",
    "\n",
    "##  Project Overview\n",
    "\n",
    "This project is focused on building a **genre-based movie recommendation system** using a dataset of **Telugu movies**. The goal is to help users discover movies they might enjoy based on the **genres** they prefer. Rather than using collaborative filtering or user behavior data, this system uses **content-based filtering**, which relies on the movie's metadata — specifically, the `Genre` column.\n",
    "\n",
    "##  Why Genre-Based?\n",
    "\n",
    "Genres are one of the most intuitive and reliable ways to classify movies. A person who enjoys action movies is likely to enjoy other movies in that genre. By using genre tags as a basis for similarity, we can provide recommendations even for **new or lesser-known movies**, as long as their genres are known.\n",
    "\n",
    "##  Approach\n",
    "\n",
    "The project follows a systematic process:\n",
    "1. **Data Preprocessing:** Handle missing values, clean irrelevant columns, and convert necessary fields (like `Year` and `Runtime`) to appropriate formats.\n",
    "2. **Exploratory Data Analysis (EDA):** Analyze key trends such as genre distributions, ratings, and runtime to better understand the dataset.\n",
    "3. **Content-Based Filtering:**\n",
    "   - Convert genre text into numerical vectors using Count Vectorizer.\n",
    "   - Compute **cosine similarity** between movies based on their genre vectors.\n",
    "   - Given a movie title as input, recommend other movies with the most similar genre vectors.\n",
    "4. **Result Presentation:** Create a function that takes a movie title as input and returns a list of recommended movies.\n",
    "\n",
    "##  Objective\n",
    "\n",
    "- Recommend top-N movies that are similar in genre to a user-specified movie.\n",
    "- Provide a clean, interactive, and simple interface for testing recommendations.\n",
    "- Focus on **Telugu cinema**, which is underrepresented in many global movie datasets.\n",
    "\n",
    "##  Outcome\n",
    "\n",
    "By the end of this project, we deliver a fully functional **content-based recommendation system** that suggests Telugu movies to users based on genre similarity. This system can serve as a foundation for more advanced models (like hybrid systems) that include collaborative filtering or deep learning.\n",
    "\n"
   ]
  },
  {
   "cell_type": "code",
   "execution_count": 385,
   "id": "93cde549-bbe1-4c78-9c6b-4e82dfe1f74c",
   "metadata": {},
   "outputs": [],
   "source": [
    "#Import essential libraries\n",
    "import pandas as pd\n",
    "import numpy as np\n",
    "import matplotlib.pyplot as plt\n",
    "import seaborn as sns\n",
    "import re\n",
    "from sklearn.feature_extraction.text import TfidfVectorizer\n",
    "from sklearn.metrics.pairwise import cosine_similarity\n",
    "from collections import Counter"
   ]
  },
  {
   "cell_type": "code",
   "execution_count": 386,
   "id": "789c0069-e649-4ae0-b85f-79be86b0c7c2",
   "metadata": {},
   "outputs": [],
   "source": [
    "#import the dataset\n",
    "df = pd.read_csv(\"TeluguMovies_dataset.csv\")"
   ]
  },
  {
   "cell_type": "code",
   "execution_count": 387,
   "id": "e999853e-f9e1-42a5-a950-81174691358e",
   "metadata": {},
   "outputs": [
    {
     "data": {
      "text/html": [
       "<div>\n",
       "<style scoped>\n",
       "    .dataframe tbody tr th:only-of-type {\n",
       "        vertical-align: middle;\n",
       "    }\n",
       "\n",
       "    .dataframe tbody tr th {\n",
       "        vertical-align: top;\n",
       "    }\n",
       "\n",
       "    .dataframe thead th {\n",
       "        text-align: right;\n",
       "    }\n",
       "</style>\n",
       "<table border=\"1\" class=\"dataframe\">\n",
       "  <thead>\n",
       "    <tr style=\"text-align: right;\">\n",
       "      <th></th>\n",
       "      <th>Unnamed: 0</th>\n",
       "      <th>Movie</th>\n",
       "      <th>Year</th>\n",
       "      <th>Certificate</th>\n",
       "      <th>Genre</th>\n",
       "      <th>Overview</th>\n",
       "      <th>Runtime</th>\n",
       "      <th>Rating</th>\n",
       "      <th>No.of.Ratings</th>\n",
       "    </tr>\n",
       "  </thead>\n",
       "  <tbody>\n",
       "    <tr>\n",
       "      <th>0</th>\n",
       "      <td>0</td>\n",
       "      <td>Bahubali: The Beginning</td>\n",
       "      <td>2015.0</td>\n",
       "      <td>UA</td>\n",
       "      <td>Action, Drama</td>\n",
       "      <td>In ancient India, an adventurous and darin...</td>\n",
       "      <td>159</td>\n",
       "      <td>8.1</td>\n",
       "      <td>99114</td>\n",
       "    </tr>\n",
       "    <tr>\n",
       "      <th>1</th>\n",
       "      <td>1</td>\n",
       "      <td>Baahubali 2: The Conclusion</td>\n",
       "      <td>2017.0</td>\n",
       "      <td>UA</td>\n",
       "      <td>Action, Drama</td>\n",
       "      <td>When Shiva, the son of Bahubali, learns ab...</td>\n",
       "      <td>167</td>\n",
       "      <td>8.2</td>\n",
       "      <td>71458</td>\n",
       "    </tr>\n",
       "    <tr>\n",
       "      <th>2</th>\n",
       "      <td>2</td>\n",
       "      <td>1 - Nenokkadine</td>\n",
       "      <td>2014.0</td>\n",
       "      <td>UA</td>\n",
       "      <td>Action, Thriller</td>\n",
       "      <td>A rock star must overcome his psychologica...</td>\n",
       "      <td>170</td>\n",
       "      <td>8.1</td>\n",
       "      <td>42372</td>\n",
       "    </tr>\n",
       "    <tr>\n",
       "      <th>3</th>\n",
       "      <td>3</td>\n",
       "      <td>Dhoom:3</td>\n",
       "      <td>2013.0</td>\n",
       "      <td>UA</td>\n",
       "      <td>Action, Thriller</td>\n",
       "      <td>When Sahir, a circus entertainer trained i...</td>\n",
       "      <td>172</td>\n",
       "      <td>5.4</td>\n",
       "      <td>42112</td>\n",
       "    </tr>\n",
       "    <tr>\n",
       "      <th>4</th>\n",
       "      <td>4</td>\n",
       "      <td>Ra.One</td>\n",
       "      <td>2011.0</td>\n",
       "      <td>U</td>\n",
       "      <td>Action, Adventure, Sci-Fi</td>\n",
       "      <td>When the titular antagonist of an action g...</td>\n",
       "      <td>156</td>\n",
       "      <td>4.6</td>\n",
       "      <td>37211</td>\n",
       "    </tr>\n",
       "  </tbody>\n",
       "</table>\n",
       "</div>"
      ],
      "text/plain": [
       "   Unnamed: 0                        Movie    Year Certificate  \\\n",
       "0           0      Bahubali: The Beginning  2015.0          UA   \n",
       "1           1  Baahubali 2: The Conclusion  2017.0          UA   \n",
       "2           2              1 - Nenokkadine  2014.0          UA   \n",
       "3           3                      Dhoom:3  2013.0          UA   \n",
       "4           4                       Ra.One  2011.0           U   \n",
       "\n",
       "                                   Genre  \\\n",
       "0              Action, Drama               \n",
       "1              Action, Drama               \n",
       "2           Action, Thriller               \n",
       "3           Action, Thriller               \n",
       "4  Action, Adventure, Sci-Fi               \n",
       "\n",
       "                                            Overview  Runtime  Rating  \\\n",
       "0      In ancient India, an adventurous and darin...      159     8.1   \n",
       "1      When Shiva, the son of Bahubali, learns ab...      167     8.2   \n",
       "2      A rock star must overcome his psychologica...      170     8.1   \n",
       "3      When Sahir, a circus entertainer trained i...      172     5.4   \n",
       "4      When the titular antagonist of an action g...      156     4.6   \n",
       "\n",
       "   No.of.Ratings  \n",
       "0          99114  \n",
       "1          71458  \n",
       "2          42372  \n",
       "3          42112  \n",
       "4          37211  "
      ]
     },
     "execution_count": 387,
     "metadata": {},
     "output_type": "execute_result"
    }
   ],
   "source": [
    "#first 5 rows of the dataset\n",
    "df.head()"
   ]
  },
  {
   "cell_type": "code",
   "execution_count": 388,
   "id": "956aec08-f617-47b4-be68-9455b461ad13",
   "metadata": {},
   "outputs": [
    {
     "data": {
      "text/html": [
       "<div>\n",
       "<style scoped>\n",
       "    .dataframe tbody tr th:only-of-type {\n",
       "        vertical-align: middle;\n",
       "    }\n",
       "\n",
       "    .dataframe tbody tr th {\n",
       "        vertical-align: top;\n",
       "    }\n",
       "\n",
       "    .dataframe thead th {\n",
       "        text-align: right;\n",
       "    }\n",
       "</style>\n",
       "<table border=\"1\" class=\"dataframe\">\n",
       "  <thead>\n",
       "    <tr style=\"text-align: right;\">\n",
       "      <th></th>\n",
       "      <th>Unnamed: 0</th>\n",
       "      <th>Movie</th>\n",
       "      <th>Year</th>\n",
       "      <th>Certificate</th>\n",
       "      <th>Genre</th>\n",
       "      <th>Overview</th>\n",
       "      <th>Runtime</th>\n",
       "      <th>Rating</th>\n",
       "      <th>No.of.Ratings</th>\n",
       "    </tr>\n",
       "  </thead>\n",
       "  <tbody>\n",
       "    <tr>\n",
       "      <th>1395</th>\n",
       "      <td>1395</td>\n",
       "      <td>Maro Monagadu</td>\n",
       "      <td>1985.0</td>\n",
       "      <td>NaN</td>\n",
       "      <td>NaN</td>\n",
       "      <td>NaN</td>\n",
       "      <td>0</td>\n",
       "      <td>8.6</td>\n",
       "      <td>49</td>\n",
       "    </tr>\n",
       "    <tr>\n",
       "      <th>1396</th>\n",
       "      <td>1396</td>\n",
       "      <td>Jakkanna</td>\n",
       "      <td>2016.0</td>\n",
       "      <td>NaN</td>\n",
       "      <td>Comedy, Drama</td>\n",
       "      <td>The movie is about an attempt by Sunil the...</td>\n",
       "      <td>0</td>\n",
       "      <td>6.3</td>\n",
       "      <td>49</td>\n",
       "    </tr>\n",
       "    <tr>\n",
       "      <th>1397</th>\n",
       "      <td>1397</td>\n",
       "      <td>Muvva Gopaludu</td>\n",
       "      <td>1987.0</td>\n",
       "      <td>NaN</td>\n",
       "      <td>Drama, Romance</td>\n",
       "      <td>Muvva Gopaludu is a 1987 Indian Telugu fil...</td>\n",
       "      <td>137</td>\n",
       "      <td>7.8</td>\n",
       "      <td>49</td>\n",
       "    </tr>\n",
       "    <tr>\n",
       "      <th>1398</th>\n",
       "      <td>1398</td>\n",
       "      <td>Ninney Ishta Paddaanu</td>\n",
       "      <td>2003.0</td>\n",
       "      <td>U</td>\n",
       "      <td>NaN</td>\n",
       "      <td>Hero Charan (Tarun) a middle class family ...</td>\n",
       "      <td>0</td>\n",
       "      <td>5.9</td>\n",
       "      <td>49</td>\n",
       "    </tr>\n",
       "    <tr>\n",
       "      <th>1399</th>\n",
       "      <td>1399</td>\n",
       "      <td>9 Nelalu</td>\n",
       "      <td>2001.0</td>\n",
       "      <td>U</td>\n",
       "      <td>Drama</td>\n",
       "      <td>Surendra marries Savitri, an orphan. In a ...</td>\n",
       "      <td>0</td>\n",
       "      <td>7.3</td>\n",
       "      <td>49</td>\n",
       "    </tr>\n",
       "  </tbody>\n",
       "</table>\n",
       "</div>"
      ],
      "text/plain": [
       "      Unnamed: 0                  Movie    Year Certificate  \\\n",
       "1395        1395          Maro Monagadu  1985.0         NaN   \n",
       "1396        1396               Jakkanna  2016.0         NaN   \n",
       "1397        1397         Muvva Gopaludu  1987.0         NaN   \n",
       "1398        1398  Ninney Ishta Paddaanu  2003.0           U   \n",
       "1399        1399               9 Nelalu  2001.0           U   \n",
       "\n",
       "                           Genre  \\\n",
       "1395                         NaN   \n",
       "1396   Comedy, Drama               \n",
       "1397  Drama, Romance               \n",
       "1398                         NaN   \n",
       "1399           Drama               \n",
       "\n",
       "                                               Overview  Runtime  Rating  \\\n",
       "1395                                                NaN        0     8.6   \n",
       "1396      The movie is about an attempt by Sunil the...        0     6.3   \n",
       "1397      Muvva Gopaludu is a 1987 Indian Telugu fil...      137     7.8   \n",
       "1398      Hero Charan (Tarun) a middle class family ...        0     5.9   \n",
       "1399      Surendra marries Savitri, an orphan. In a ...        0     7.3   \n",
       "\n",
       "      No.of.Ratings  \n",
       "1395             49  \n",
       "1396             49  \n",
       "1397             49  \n",
       "1398             49  \n",
       "1399             49  "
      ]
     },
     "execution_count": 388,
     "metadata": {},
     "output_type": "execute_result"
    }
   ],
   "source": [
    "#last 5 rows of the dataset\n",
    "df.tail()"
   ]
  },
  {
   "cell_type": "code",
   "execution_count": 389,
   "id": "934e59a7-c68c-4a12-8e28-7e16d02d6ac7",
   "metadata": {},
   "outputs": [
    {
     "data": {
      "text/plain": [
       "Unnamed: 0         0\n",
       "Movie              0\n",
       "Year              48\n",
       "Certificate      449\n",
       "Genre             11\n",
       "Overview         179\n",
       "Runtime            0\n",
       "Rating             0\n",
       "No.of.Ratings      0\n",
       "dtype: int64"
      ]
     },
     "execution_count": 389,
     "metadata": {},
     "output_type": "execute_result"
    }
   ],
   "source": [
    "#null values in the dataset\n",
    "df.isnull().sum()"
   ]
  },
  {
   "cell_type": "markdown",
   "id": "acce2b8d-3ffc-4e9b-a6f0-01d27d078f69",
   "metadata": {},
   "source": [
    "- We have found null values in `Year`, `Certificate`, `Genre` and `Overview`.\n",
    "- We will later find appropriate imputation method for each column in the analysis."
   ]
  },
  {
   "cell_type": "code",
   "execution_count": 391,
   "id": "bef04806-bda3-4d49-bad2-284c688f5e1b",
   "metadata": {},
   "outputs": [
    {
     "data": {
      "text/plain": [
       "(1400, 9)"
      ]
     },
     "execution_count": 391,
     "metadata": {},
     "output_type": "execute_result"
    }
   ],
   "source": [
    "#shape of the dataset\n",
    "df.shape"
   ]
  },
  {
   "cell_type": "markdown",
   "id": "1e698c73-4709-443f-a025-a7aed61ee1c6",
   "metadata": {},
   "source": [
    "- There are 1400 columns and 9 rows."
   ]
  },
  {
   "cell_type": "code",
   "execution_count": 397,
   "id": "cb30a192-5886-4d2a-b46d-148168265b7c",
   "metadata": {},
   "outputs": [
    {
     "name": "stdout",
     "output_type": "stream",
     "text": [
      "<class 'pandas.core.frame.DataFrame'>\n",
      "RangeIndex: 1400 entries, 0 to 1399\n",
      "Data columns (total 9 columns):\n",
      " #   Column         Non-Null Count  Dtype  \n",
      "---  ------         --------------  -----  \n",
      " 0   Unnamed: 0     1400 non-null   int64  \n",
      " 1   Movie          1400 non-null   object \n",
      " 2   Year           1352 non-null   float64\n",
      " 3   Certificate    951 non-null    object \n",
      " 4   Genre          1389 non-null   object \n",
      " 5   Overview       1221 non-null   object \n",
      " 6   Runtime        1400 non-null   int64  \n",
      " 7   Rating         1400 non-null   float64\n",
      " 8   No.of.Ratings  1400 non-null   int64  \n",
      "dtypes: float64(2), int64(3), object(4)\n",
      "memory usage: 98.6+ KB\n"
     ]
    }
   ],
   "source": [
    "#datatypes and non null values of the columns\n",
    "df.info()"
   ]
  },
  {
   "cell_type": "markdown",
   "id": "6156049a-98ed-4d6b-82d7-74708c2e331a",
   "metadata": {},
   "source": [
    "- `Year` column should be Date dtype instead of float.\n"
   ]
  },
  {
   "cell_type": "code",
   "execution_count": 399,
   "id": "e046e138-2632-4e81-bbea-7c804eff5a14",
   "metadata": {},
   "outputs": [
    {
     "data": {
      "text/html": [
       "<div>\n",
       "<style scoped>\n",
       "    .dataframe tbody tr th:only-of-type {\n",
       "        vertical-align: middle;\n",
       "    }\n",
       "\n",
       "    .dataframe tbody tr th {\n",
       "        vertical-align: top;\n",
       "    }\n",
       "\n",
       "    .dataframe thead th {\n",
       "        text-align: right;\n",
       "    }\n",
       "</style>\n",
       "<table border=\"1\" class=\"dataframe\">\n",
       "  <thead>\n",
       "    <tr style=\"text-align: right;\">\n",
       "      <th></th>\n",
       "      <th>Unnamed: 0</th>\n",
       "      <th>Year</th>\n",
       "      <th>Runtime</th>\n",
       "      <th>Rating</th>\n",
       "      <th>No.of.Ratings</th>\n",
       "    </tr>\n",
       "  </thead>\n",
       "  <tbody>\n",
       "    <tr>\n",
       "      <th>count</th>\n",
       "      <td>1400.0000</td>\n",
       "      <td>1352.000000</td>\n",
       "      <td>1400.000000</td>\n",
       "      <td>1400.000000</td>\n",
       "      <td>1400.000000</td>\n",
       "    </tr>\n",
       "    <tr>\n",
       "      <th>mean</th>\n",
       "      <td>699.5000</td>\n",
       "      <td>2005.013314</td>\n",
       "      <td>121.764286</td>\n",
       "      <td>6.317214</td>\n",
       "      <td>1214.755714</td>\n",
       "    </tr>\n",
       "    <tr>\n",
       "      <th>std</th>\n",
       "      <td>404.2895</td>\n",
       "      <td>13.148859</td>\n",
       "      <td>55.925792</td>\n",
       "      <td>1.314660</td>\n",
       "      <td>4328.073152</td>\n",
       "    </tr>\n",
       "    <tr>\n",
       "      <th>min</th>\n",
       "      <td>0.0000</td>\n",
       "      <td>1932.000000</td>\n",
       "      <td>0.000000</td>\n",
       "      <td>1.000000</td>\n",
       "      <td>49.000000</td>\n",
       "    </tr>\n",
       "    <tr>\n",
       "      <th>25%</th>\n",
       "      <td>349.7500</td>\n",
       "      <td>1997.000000</td>\n",
       "      <td>123.000000</td>\n",
       "      <td>5.500000</td>\n",
       "      <td>92.000000</td>\n",
       "    </tr>\n",
       "    <tr>\n",
       "      <th>50%</th>\n",
       "      <td>699.5000</td>\n",
       "      <td>2009.000000</td>\n",
       "      <td>141.000000</td>\n",
       "      <td>6.500000</td>\n",
       "      <td>255.500000</td>\n",
       "    </tr>\n",
       "    <tr>\n",
       "      <th>75%</th>\n",
       "      <td>1049.2500</td>\n",
       "      <td>2015.000000</td>\n",
       "      <td>154.000000</td>\n",
       "      <td>7.300000</td>\n",
       "      <td>829.000000</td>\n",
       "    </tr>\n",
       "    <tr>\n",
       "      <th>max</th>\n",
       "      <td>1399.0000</td>\n",
       "      <td>2020.000000</td>\n",
       "      <td>300.000000</td>\n",
       "      <td>9.500000</td>\n",
       "      <td>99114.000000</td>\n",
       "    </tr>\n",
       "  </tbody>\n",
       "</table>\n",
       "</div>"
      ],
      "text/plain": [
       "       Unnamed: 0         Year      Runtime       Rating  No.of.Ratings\n",
       "count   1400.0000  1352.000000  1400.000000  1400.000000    1400.000000\n",
       "mean     699.5000  2005.013314   121.764286     6.317214    1214.755714\n",
       "std      404.2895    13.148859    55.925792     1.314660    4328.073152\n",
       "min        0.0000  1932.000000     0.000000     1.000000      49.000000\n",
       "25%      349.7500  1997.000000   123.000000     5.500000      92.000000\n",
       "50%      699.5000  2009.000000   141.000000     6.500000     255.500000\n",
       "75%     1049.2500  2015.000000   154.000000     7.300000     829.000000\n",
       "max     1399.0000  2020.000000   300.000000     9.500000   99114.000000"
      ]
     },
     "execution_count": 399,
     "metadata": {},
     "output_type": "execute_result"
    }
   ],
   "source": [
    "#checking the range of values for numeric columns\n",
    "df.describe()"
   ]
  },
  {
   "cell_type": "markdown",
   "id": "2aa9d7a7-0ccf-4993-9c35-33c8273aa522",
   "metadata": {},
   "source": [
    "## 1. Data Preprocessing & Cleaning\n",
    "\n",
    "Before building the recommendation engine, it's essential to clean the dataset and handle missing or inconsistent entries.\n",
    "\n",
    "We'll take care of:\n",
    "- Removing irrelevant columns\n",
    "- Dealing with missing values in `Genre`, `Year`, `Certificate`, and `Overview`\n",
    "- Fixing incorrect `Runtime` entries"
   ]
  },
  {
   "cell_type": "code",
   "execution_count": 402,
   "id": "050bd9c2-0140-4391-8292-e8a16cd33554",
   "metadata": {},
   "outputs": [],
   "source": [
    "# Drop columns not useful for analysis\n",
    "df.drop(columns=['Unnamed: 0'], inplace=True)"
   ]
  },
  {
   "cell_type": "markdown",
   "id": "c9923141-e580-420a-b8da-40cbfbc83338",
   "metadata": {},
   "source": [
    "- `Unnamed: 0` column has no relavance to the analysis and it can be removed."
   ]
  },
  {
   "cell_type": "code",
   "execution_count": 405,
   "id": "77baa778-b806-4de9-82b7-f7370ad473d7",
   "metadata": {},
   "outputs": [
    {
     "data": {
      "text/plain": [
       "Movie              0\n",
       "Year              48\n",
       "Certificate      449\n",
       "Genre             11\n",
       "Overview         179\n",
       "Runtime            0\n",
       "Rating             0\n",
       "No.of.Ratings      0\n",
       "dtype: int64"
      ]
     },
     "execution_count": 405,
     "metadata": {},
     "output_type": "execute_result"
    }
   ],
   "source": [
    "#check for the null value count in each column\n",
    "df.isnull().sum()"
   ]
  },
  {
   "cell_type": "markdown",
   "id": "2c122012-d42d-4c94-ad9c-78915b01aae8",
   "metadata": {},
   "source": [
    "**1. Year column:**\n",
    "- Our focus is on Genre column. So, null values in Year column will not impact the system.\n",
    "- We cannot even impute any other values as it is Date dtype.\n",
    "- So we will replace the missing cells with 'Unknown', as this column will be useful in displaying th movie information to the user."
   ]
  },
  {
   "cell_type": "code",
   "execution_count": 408,
   "id": "8eac573d-7e8b-44d4-9b50-48350d611d14",
   "metadata": {},
   "outputs": [],
   "source": [
    "df['Year'] = df['Year'].astype('Int64')"
   ]
  },
  {
   "cell_type": "code",
   "execution_count": 409,
   "id": "46a28424-4ab7-45c4-89ee-71e0e443eb3c",
   "metadata": {},
   "outputs": [],
   "source": [
    "df['Year'] = df['Year'].astype(str).replace('<NA>', 'Unknown')"
   ]
  },
  {
   "cell_type": "code",
   "execution_count": 411,
   "id": "c07a5925-0651-4885-8dfe-75e17e85f3f7",
   "metadata": {},
   "outputs": [
    {
     "data": {
      "text/plain": [
       "0"
      ]
     },
     "execution_count": 411,
     "metadata": {},
     "output_type": "execute_result"
    }
   ],
   "source": [
    "df['Year'].isnull().sum()"
   ]
  },
  {
   "cell_type": "code",
   "execution_count": 413,
   "id": "16b8d4c3-198c-4448-98b3-350abc3d2192",
   "metadata": {},
   "outputs": [
    {
     "data": {
      "text/html": [
       "<div>\n",
       "<style scoped>\n",
       "    .dataframe tbody tr th:only-of-type {\n",
       "        vertical-align: middle;\n",
       "    }\n",
       "\n",
       "    .dataframe tbody tr th {\n",
       "        vertical-align: top;\n",
       "    }\n",
       "\n",
       "    .dataframe thead th {\n",
       "        text-align: right;\n",
       "    }\n",
       "</style>\n",
       "<table border=\"1\" class=\"dataframe\">\n",
       "  <thead>\n",
       "    <tr style=\"text-align: right;\">\n",
       "      <th></th>\n",
       "      <th>Movie</th>\n",
       "      <th>Year</th>\n",
       "      <th>Certificate</th>\n",
       "      <th>Genre</th>\n",
       "      <th>Overview</th>\n",
       "      <th>Runtime</th>\n",
       "      <th>Rating</th>\n",
       "      <th>No.of.Ratings</th>\n",
       "    </tr>\n",
       "  </thead>\n",
       "  <tbody>\n",
       "    <tr>\n",
       "      <th>0</th>\n",
       "      <td>Bahubali: The Beginning</td>\n",
       "      <td>2015</td>\n",
       "      <td>UA</td>\n",
       "      <td>Action, Drama</td>\n",
       "      <td>In ancient India, an adventurous and darin...</td>\n",
       "      <td>159</td>\n",
       "      <td>8.1</td>\n",
       "      <td>99114</td>\n",
       "    </tr>\n",
       "    <tr>\n",
       "      <th>1</th>\n",
       "      <td>Baahubali 2: The Conclusion</td>\n",
       "      <td>2017</td>\n",
       "      <td>UA</td>\n",
       "      <td>Action, Drama</td>\n",
       "      <td>When Shiva, the son of Bahubali, learns ab...</td>\n",
       "      <td>167</td>\n",
       "      <td>8.2</td>\n",
       "      <td>71458</td>\n",
       "    </tr>\n",
       "    <tr>\n",
       "      <th>2</th>\n",
       "      <td>1 - Nenokkadine</td>\n",
       "      <td>2014</td>\n",
       "      <td>UA</td>\n",
       "      <td>Action, Thriller</td>\n",
       "      <td>A rock star must overcome his psychologica...</td>\n",
       "      <td>170</td>\n",
       "      <td>8.1</td>\n",
       "      <td>42372</td>\n",
       "    </tr>\n",
       "    <tr>\n",
       "      <th>3</th>\n",
       "      <td>Dhoom:3</td>\n",
       "      <td>2013</td>\n",
       "      <td>UA</td>\n",
       "      <td>Action, Thriller</td>\n",
       "      <td>When Sahir, a circus entertainer trained i...</td>\n",
       "      <td>172</td>\n",
       "      <td>5.4</td>\n",
       "      <td>42112</td>\n",
       "    </tr>\n",
       "    <tr>\n",
       "      <th>4</th>\n",
       "      <td>Ra.One</td>\n",
       "      <td>2011</td>\n",
       "      <td>U</td>\n",
       "      <td>Action, Adventure, Sci-Fi</td>\n",
       "      <td>When the titular antagonist of an action g...</td>\n",
       "      <td>156</td>\n",
       "      <td>4.6</td>\n",
       "      <td>37211</td>\n",
       "    </tr>\n",
       "  </tbody>\n",
       "</table>\n",
       "</div>"
      ],
      "text/plain": [
       "                         Movie  Year Certificate  \\\n",
       "0      Bahubali: The Beginning  2015          UA   \n",
       "1  Baahubali 2: The Conclusion  2017          UA   \n",
       "2              1 - Nenokkadine  2014          UA   \n",
       "3                      Dhoom:3  2013          UA   \n",
       "4                       Ra.One  2011           U   \n",
       "\n",
       "                                   Genre  \\\n",
       "0              Action, Drama               \n",
       "1              Action, Drama               \n",
       "2           Action, Thriller               \n",
       "3           Action, Thriller               \n",
       "4  Action, Adventure, Sci-Fi               \n",
       "\n",
       "                                            Overview  Runtime  Rating  \\\n",
       "0      In ancient India, an adventurous and darin...      159     8.1   \n",
       "1      When Shiva, the son of Bahubali, learns ab...      167     8.2   \n",
       "2      A rock star must overcome his psychologica...      170     8.1   \n",
       "3      When Sahir, a circus entertainer trained i...      172     5.4   \n",
       "4      When the titular antagonist of an action g...      156     4.6   \n",
       "\n",
       "   No.of.Ratings  \n",
       "0          99114  \n",
       "1          71458  \n",
       "2          42372  \n",
       "3          42112  \n",
       "4          37211  "
      ]
     },
     "execution_count": 413,
     "metadata": {},
     "output_type": "execute_result"
    }
   ],
   "source": [
    "df.head()"
   ]
  },
  {
   "cell_type": "markdown",
   "id": "6f9971de-4d10-4f24-bfd5-40d278ce28f9",
   "metadata": {},
   "source": [
    "**2. Certificate and Overview Column:**\n",
    "- We will replace the null values in Certification column with mode grouping them by genres.\n",
    "- we will replace null values in Overiview column with `Unknown`."
   ]
  },
  {
   "cell_type": "code",
   "execution_count": 415,
   "id": "0e4d5015-f6de-4491-b5bc-70cbb8b8ddc3",
   "metadata": {},
   "outputs": [],
   "source": [
    "df['Certificate'] = df.groupby('Genre')['Certificate'].transform(lambda x: x.fillna(x.mode().iloc[0] if not x.mode().empty else 'Unknown'))"
   ]
  },
  {
   "cell_type": "code",
   "execution_count": 416,
   "id": "1e487604-bcc6-4771-ac98-5db2941a86a9",
   "metadata": {},
   "outputs": [],
   "source": [
    "df['Overview'] = df['Overview'].fillna('Unknown')"
   ]
  },
  {
   "cell_type": "markdown",
   "id": "9516ceec-799f-43e2-b705-fbc1b97bf8b6",
   "metadata": {},
   "source": [
    "**3. Genre Column:**\n",
    "- `Genre` is the important colum  in our project and only way handling these missing values is directly removing those rows. "
   ]
  },
  {
   "cell_type": "code",
   "execution_count": 418,
   "id": "d841cae1-aa18-4bb7-b794-c69ba4a13422",
   "metadata": {},
   "outputs": [],
   "source": [
    "df = df.dropna(subset = ['Genre'])"
   ]
  },
  {
   "cell_type": "code",
   "execution_count": 419,
   "id": "a058fb46-83eb-4176-9656-02d6b8a60ba9",
   "metadata": {},
   "outputs": [
    {
     "data": {
      "text/plain": [
       "Movie            0\n",
       "Year             0\n",
       "Certificate      0\n",
       "Genre            0\n",
       "Overview         0\n",
       "Runtime          0\n",
       "Rating           0\n",
       "No.of.Ratings    0\n",
       "dtype: int64"
      ]
     },
     "execution_count": 419,
     "metadata": {},
     "output_type": "execute_result"
    }
   ],
   "source": [
    "df.isnull().sum()"
   ]
  },
  {
   "cell_type": "code",
   "execution_count": 420,
   "id": "afaedb86-c673-4eb4-a3af-bf50173b5002",
   "metadata": {},
   "outputs": [
    {
     "data": {
      "text/html": [
       "<div>\n",
       "<style scoped>\n",
       "    .dataframe tbody tr th:only-of-type {\n",
       "        vertical-align: middle;\n",
       "    }\n",
       "\n",
       "    .dataframe tbody tr th {\n",
       "        vertical-align: top;\n",
       "    }\n",
       "\n",
       "    .dataframe thead th {\n",
       "        text-align: right;\n",
       "    }\n",
       "</style>\n",
       "<table border=\"1\" class=\"dataframe\">\n",
       "  <thead>\n",
       "    <tr style=\"text-align: right;\">\n",
       "      <th></th>\n",
       "      <th>Movie</th>\n",
       "      <th>Year</th>\n",
       "      <th>Certificate</th>\n",
       "      <th>Genre</th>\n",
       "      <th>Overview</th>\n",
       "      <th>Runtime</th>\n",
       "      <th>Rating</th>\n",
       "      <th>No.of.Ratings</th>\n",
       "    </tr>\n",
       "  </thead>\n",
       "  <tbody>\n",
       "    <tr>\n",
       "      <th>0</th>\n",
       "      <td>Bahubali: The Beginning</td>\n",
       "      <td>2015</td>\n",
       "      <td>UA</td>\n",
       "      <td>Action, Drama</td>\n",
       "      <td>In ancient India, an adventurous and darin...</td>\n",
       "      <td>159</td>\n",
       "      <td>8.1</td>\n",
       "      <td>99114</td>\n",
       "    </tr>\n",
       "    <tr>\n",
       "      <th>1</th>\n",
       "      <td>Baahubali 2: The Conclusion</td>\n",
       "      <td>2017</td>\n",
       "      <td>UA</td>\n",
       "      <td>Action, Drama</td>\n",
       "      <td>When Shiva, the son of Bahubali, learns ab...</td>\n",
       "      <td>167</td>\n",
       "      <td>8.2</td>\n",
       "      <td>71458</td>\n",
       "    </tr>\n",
       "    <tr>\n",
       "      <th>2</th>\n",
       "      <td>1 - Nenokkadine</td>\n",
       "      <td>2014</td>\n",
       "      <td>UA</td>\n",
       "      <td>Action, Thriller</td>\n",
       "      <td>A rock star must overcome his psychologica...</td>\n",
       "      <td>170</td>\n",
       "      <td>8.1</td>\n",
       "      <td>42372</td>\n",
       "    </tr>\n",
       "    <tr>\n",
       "      <th>3</th>\n",
       "      <td>Dhoom:3</td>\n",
       "      <td>2013</td>\n",
       "      <td>UA</td>\n",
       "      <td>Action, Thriller</td>\n",
       "      <td>When Sahir, a circus entertainer trained i...</td>\n",
       "      <td>172</td>\n",
       "      <td>5.4</td>\n",
       "      <td>42112</td>\n",
       "    </tr>\n",
       "    <tr>\n",
       "      <th>4</th>\n",
       "      <td>Ra.One</td>\n",
       "      <td>2011</td>\n",
       "      <td>U</td>\n",
       "      <td>Action, Adventure, Sci-Fi</td>\n",
       "      <td>When the titular antagonist of an action g...</td>\n",
       "      <td>156</td>\n",
       "      <td>4.6</td>\n",
       "      <td>37211</td>\n",
       "    </tr>\n",
       "  </tbody>\n",
       "</table>\n",
       "</div>"
      ],
      "text/plain": [
       "                         Movie  Year Certificate  \\\n",
       "0      Bahubali: The Beginning  2015          UA   \n",
       "1  Baahubali 2: The Conclusion  2017          UA   \n",
       "2              1 - Nenokkadine  2014          UA   \n",
       "3                      Dhoom:3  2013          UA   \n",
       "4                       Ra.One  2011           U   \n",
       "\n",
       "                                   Genre  \\\n",
       "0              Action, Drama               \n",
       "1              Action, Drama               \n",
       "2           Action, Thriller               \n",
       "3           Action, Thriller               \n",
       "4  Action, Adventure, Sci-Fi               \n",
       "\n",
       "                                            Overview  Runtime  Rating  \\\n",
       "0      In ancient India, an adventurous and darin...      159     8.1   \n",
       "1      When Shiva, the son of Bahubali, learns ab...      167     8.2   \n",
       "2      A rock star must overcome his psychologica...      170     8.1   \n",
       "3      When Sahir, a circus entertainer trained i...      172     5.4   \n",
       "4      When the titular antagonist of an action g...      156     4.6   \n",
       "\n",
       "   No.of.Ratings  \n",
       "0          99114  \n",
       "1          71458  \n",
       "2          42372  \n",
       "3          42112  \n",
       "4          37211  "
      ]
     },
     "execution_count": 420,
     "metadata": {},
     "output_type": "execute_result"
    }
   ],
   "source": [
    "df.head()"
   ]
  },
  {
   "cell_type": "code",
   "execution_count": 421,
   "id": "7112c012-84c8-43c5-baef-b287249c8fbe",
   "metadata": {},
   "outputs": [
    {
     "data": {
      "text/plain": [
       "Movie             object\n",
       "Year              object\n",
       "Certificate       object\n",
       "Genre             object\n",
       "Overview          object\n",
       "Runtime            int64\n",
       "Rating           float64\n",
       "No.of.Ratings      int64\n",
       "dtype: object"
      ]
     },
     "execution_count": 421,
     "metadata": {},
     "output_type": "execute_result"
    }
   ],
   "source": [
    "df.dtypes"
   ]
  },
  {
   "cell_type": "code",
   "execution_count": 422,
   "id": "3b6c4cdb-29a4-49a8-b8a2-937e5a6634db",
   "metadata": {},
   "outputs": [
    {
     "data": {
      "text/plain": [
       "0"
      ]
     },
     "execution_count": 422,
     "metadata": {},
     "output_type": "execute_result"
    }
   ],
   "source": [
    "df.duplicated().sum()"
   ]
  },
  {
   "cell_type": "code",
   "execution_count": 423,
   "id": "af2323a4-aed8-4264-8c4b-fc77fd4c9d0b",
   "metadata": {},
   "outputs": [
    {
     "data": {
      "text/html": [
       "<div>\n",
       "<style scoped>\n",
       "    .dataframe tbody tr th:only-of-type {\n",
       "        vertical-align: middle;\n",
       "    }\n",
       "\n",
       "    .dataframe tbody tr th {\n",
       "        vertical-align: top;\n",
       "    }\n",
       "\n",
       "    .dataframe thead th {\n",
       "        text-align: right;\n",
       "    }\n",
       "</style>\n",
       "<table border=\"1\" class=\"dataframe\">\n",
       "  <thead>\n",
       "    <tr style=\"text-align: right;\">\n",
       "      <th></th>\n",
       "      <th>Movie</th>\n",
       "      <th>Year</th>\n",
       "      <th>Certificate</th>\n",
       "      <th>Genre</th>\n",
       "      <th>Overview</th>\n",
       "      <th>Runtime</th>\n",
       "      <th>Rating</th>\n",
       "      <th>No.of.Ratings</th>\n",
       "    </tr>\n",
       "  </thead>\n",
       "  <tbody>\n",
       "  </tbody>\n",
       "</table>\n",
       "</div>"
      ],
      "text/plain": [
       "Empty DataFrame\n",
       "Columns: [Movie, Year, Certificate, Genre, Overview, Runtime, Rating, No.of.Ratings]\n",
       "Index: []"
      ]
     },
     "execution_count": 423,
     "metadata": {},
     "output_type": "execute_result"
    }
   ],
   "source": [
    "df[df['Runtime'] == 'Unknown']"
   ]
  },
  {
   "cell_type": "markdown",
   "id": "a94cce29-8c45-4587-a9dc-216c38c699a2",
   "metadata": {},
   "source": [
    "## 2. Exploratory Data Analysis (EDA)\n",
    "\n",
    "To understand our dataset better, we analyze:\n",
    "\n",
    "- Movie genres and their distribution\n",
    "- Ratings and runtime patterns\n",
    "- Release year trends"
   ]
  },
  {
   "cell_type": "markdown",
   "id": "3cfe9ae7-a180-4150-97d0-706191b2cb85",
   "metadata": {},
   "source": [
    "### Rating Distribution and Outliers"
   ]
  },
  {
   "cell_type": "code",
   "execution_count": 426,
   "id": "bfb34d6a-5d86-47d6-8001-c6067ca870bf",
   "metadata": {},
   "outputs": [
    {
     "data": {
      "image/png": "[encoded data removed]",
      "text/plain": [
       "<Figure size 640x480 with 1 Axes>"
      ]
     },
     "metadata": {},
     "output_type": "display_data"
    }
   ],
   "source": [
    "plt.boxplot(df.Rating)\n",
    "plt.show()"
   ]
  },
  {
   "cell_type": "code",
   "execution_count": 427,
   "id": "8e09eb88-778d-4bbd-bcb5-83338ccc59d4",
   "metadata": {},
   "outputs": [
    {
     "data": {
      "text/plain": [
       "count    1389.000000\n",
       "mean        6.305472\n",
       "std         1.310784\n",
       "min         1.000000\n",
       "25%         5.500000\n",
       "50%         6.500000\n",
       "75%         7.300000\n",
       "max         9.500000\n",
       "Name: Rating, dtype: float64"
      ]
     },
     "execution_count": 427,
     "metadata": {},
     "output_type": "execute_result"
    }
   ],
   "source": [
    "df['Rating'].describe()"
   ]
  },
  {
   "cell_type": "markdown",
   "id": "23960596-de44-4e92-9991-0897f1cd8da4",
   "metadata": {},
   "source": [
    "- The range of Rating is `1 - 9.5` and is in the correct range. So there are no actual outliers in the column."
   ]
  },
  {
   "cell_type": "markdown",
   "id": "6428a925-2ab1-40d0-abb5-325d9bf7b3e3",
   "metadata": {},
   "source": [
    "### Runtime Distribution (Excluding Unknowns)"
   ]
  },
  {
   "cell_type": "code",
   "execution_count": 434,
   "id": "a4b64a3a-24ec-440a-bcc9-f480075fc881",
   "metadata": {},
   "outputs": [
    {
     "data": {
      "image/png": "[encoded data removed]",
      "text/plain": [
       "<Figure size 640x480 with 1 Axes>"
      ]
     },
     "metadata": {},
     "output_type": "display_data"
    }
   ],
   "source": [
    "runtime_data = df[df['Runtime'] != 'Unknown']['Runtime'].astype(int)\n",
    "plt.boxplot(runtime_data, vert=False)\n",
    "plt.title('Boxplot of Movie Runtimes (Excluding Unknown)')\n",
    "plt.xlabel('Runtime (minutes)')\n",
    "plt.show()"
   ]
  },
  {
   "cell_type": "code",
   "execution_count": 435,
   "id": "abc687d2-47b4-48f3-a9cc-a203adb22721",
   "metadata": {},
   "outputs": [
    {
     "data": {
      "text/html": [
       "<div>\n",
       "<style scoped>\n",
       "    .dataframe tbody tr th:only-of-type {\n",
       "        vertical-align: middle;\n",
       "    }\n",
       "\n",
       "    .dataframe tbody tr th {\n",
       "        vertical-align: top;\n",
       "    }\n",
       "\n",
       "    .dataframe thead th {\n",
       "        text-align: right;\n",
       "    }\n",
       "</style>\n",
       "<table border=\"1\" class=\"dataframe\">\n",
       "  <thead>\n",
       "    <tr style=\"text-align: right;\">\n",
       "      <th></th>\n",
       "      <th>Movie</th>\n",
       "      <th>Year</th>\n",
       "      <th>Certificate</th>\n",
       "      <th>Genre</th>\n",
       "      <th>Overview</th>\n",
       "      <th>Runtime</th>\n",
       "      <th>Rating</th>\n",
       "      <th>No.of.Ratings</th>\n",
       "    </tr>\n",
       "  </thead>\n",
       "  <tbody>\n",
       "    <tr>\n",
       "      <th>203</th>\n",
       "      <td>Athidhi</td>\n",
       "      <td>2007</td>\n",
       "      <td>A</td>\n",
       "      <td>Action</td>\n",
       "      <td>Athidi(Mahesh Babu) is falsely convicted f...</td>\n",
       "      <td>300</td>\n",
       "      <td>5.5</td>\n",
       "      <td>1691</td>\n",
       "    </tr>\n",
       "    <tr>\n",
       "      <th>468</th>\n",
       "      <td>Daana Veera Soora Karna</td>\n",
       "      <td>1977</td>\n",
       "      <td>U</td>\n",
       "      <td>Action, Drama, Fantasy</td>\n",
       "      <td>Abandoned at birth, brave and loyal Karna ...</td>\n",
       "      <td>233</td>\n",
       "      <td>8.8</td>\n",
       "      <td>530</td>\n",
       "    </tr>\n",
       "    <tr>\n",
       "      <th>477</th>\n",
       "      <td>Veera</td>\n",
       "      <td>1994</td>\n",
       "      <td>U</td>\n",
       "      <td>Comedy, Romance</td>\n",
       "      <td>A talented musician from a village migrate...</td>\n",
       "      <td>240</td>\n",
       "      <td>6.6</td>\n",
       "      <td>515</td>\n",
       "    </tr>\n",
       "    <tr>\n",
       "      <th>1215</th>\n",
       "      <td>Tenali Ramakrishna</td>\n",
       "      <td>Unknown</td>\n",
       "      <td>U</td>\n",
       "      <td>Comedy, Drama</td>\n",
       "      <td>This film is based on a famous Telugu poet...</td>\n",
       "      <td>204</td>\n",
       "      <td>7.9</td>\n",
       "      <td>67</td>\n",
       "    </tr>\n",
       "  </tbody>\n",
       "</table>\n",
       "</div>"
      ],
      "text/plain": [
       "                        Movie     Year Certificate  \\\n",
       "203                   Athidhi     2007           A   \n",
       "468   Daana Veera Soora Karna     1977           U   \n",
       "477                     Veera     1994           U   \n",
       "1215       Tenali Ramakrishna  Unknown           U   \n",
       "\n",
       "                                   Genre  \\\n",
       "203                   Action               \n",
       "468   Action, Drama, Fantasy               \n",
       "477          Comedy, Romance               \n",
       "1215           Comedy, Drama               \n",
       "\n",
       "                                               Overview  Runtime  Rating  \\\n",
       "203       Athidi(Mahesh Babu) is falsely convicted f...      300     5.5   \n",
       "468       Abandoned at birth, brave and loyal Karna ...      233     8.8   \n",
       "477       A talented musician from a village migrate...      240     6.6   \n",
       "1215      This film is based on a famous Telugu poet...      204     7.9   \n",
       "\n",
       "      No.of.Ratings  \n",
       "203            1691  \n",
       "468             530  \n",
       "477             515  \n",
       "1215             67  "
      ]
     },
     "execution_count": 435,
     "metadata": {},
     "output_type": "execute_result"
    }
   ],
   "source": [
    "df[df['Runtime'] > 200]"
   ]
  },
  {
   "cell_type": "code",
   "execution_count": 436,
   "id": "e2e0c67a-f350-41b2-a86f-0d6c60e28659",
   "metadata": {},
   "outputs": [],
   "source": [
    "df.loc[df['Movie'] == 'Athidhi', 'Runtime'] = 162\n",
    "df.loc[df['Movie'] == 'Veera', 'Runtime'] = 164"
   ]
  },
  {
   "cell_type": "markdown",
   "id": "de0fe983-b951-4232-a51d-cb01f63afdcb",
   "metadata": {},
   "source": [
    "- Identified outliers in the 'Runtime' column (movies > 200 mins).\n",
    "- Manually verified these records using external sources (IMDb/Google).\n",
    "-  Found 2 incorrect values and corrected/removed them for accurate analysis.\n"
   ]
  },
  {
   "cell_type": "code",
   "execution_count": 439,
   "id": "6224f94c-32f4-4869-bd21-b6c619ade448",
   "metadata": {},
   "outputs": [],
   "source": [
    "df['Runtime'] = np.where(df['Runtime'] == 0, 'Unknown', df['Runtime'].astype(str))\n"
   ]
  },
  {
   "cell_type": "markdown",
   "id": "a0d8e507-4d3c-484f-b7ed-e881483851fc",
   "metadata": {},
   "source": [
    "- There are many records with runtime '0', that means runtime is 'Unknown'. So it is better replacing the 0 runtime wth Unknown."
   ]
  },
  {
   "cell_type": "code",
   "execution_count": 447,
   "id": "410356aa-f257-42f9-91ae-5aee8cb0ec8e",
   "metadata": {},
   "outputs": [
    {
     "data": {
      "image/png": "[encoded data removed]",
      "text/plain": [
       "<Figure size 640x480 with 1 Axes>"
      ]
     },
     "metadata": {},
     "output_type": "display_data"
    }
   ],
   "source": [
    "runtime_data = df[df['Runtime'] != 'Unknown']['Runtime'].astype(int)\n",
    "plt.hist(runtime_data)\n",
    "plt.title('Boxplot of Movie Runtimes (Excluding Unknown)')\n",
    "plt.xlabel('Runtime (minutes)')\n",
    "plt.show()"
   ]
  },
  {
   "cell_type": "markdown",
   "id": "38d6fbde-1313-48c9-aab4-fc701a4487bc",
   "metadata": {},
   "source": [
    "### Release Year Trends"
   ]
  },
  {
   "cell_type": "code",
   "execution_count": 449,
   "id": "bf9ea3b3-dfbd-4d28-be26-c711f8712f71",
   "metadata": {},
   "outputs": [
    {
     "data": {
      "image/png": "[encoded data removed]",
      "text/plain": [
       "<Figure size 640x480 with 1 Axes>"
      ]
     },
     "metadata": {},
     "output_type": "display_data"
    }
   ],
   "source": [
    "year_data = df[df['Year'] != 'Unknown']['Year'].astype(int)\n",
    "plt.boxplot(year_data, vert = False)\n",
    "plt.title('Boxplot for Year column')\n",
    "plt.show()"
   ]
  },
  {
   "cell_type": "code",
   "execution_count": 450,
   "id": "2e01f82d-0a25-4b98-9955-f0ce5d75116f",
   "metadata": {},
   "outputs": [
    {
     "data": {
      "text/html": [
       "<div>\n",
       "<style scoped>\n",
       "    .dataframe tbody tr th:only-of-type {\n",
       "        vertical-align: middle;\n",
       "    }\n",
       "\n",
       "    .dataframe tbody tr th {\n",
       "        vertical-align: top;\n",
       "    }\n",
       "\n",
       "    .dataframe thead th {\n",
       "        text-align: right;\n",
       "    }\n",
       "</style>\n",
       "<table border=\"1\" class=\"dataframe\">\n",
       "  <thead>\n",
       "    <tr style=\"text-align: right;\">\n",
       "      <th></th>\n",
       "      <th>Movie</th>\n",
       "      <th>Year</th>\n",
       "      <th>Certificate</th>\n",
       "      <th>Genre</th>\n",
       "      <th>Overview</th>\n",
       "      <th>Runtime</th>\n",
       "      <th>Rating</th>\n",
       "      <th>No.of.Ratings</th>\n",
       "    </tr>\n",
       "  </thead>\n",
       "  <tbody>\n",
       "    <tr>\n",
       "      <th>92</th>\n",
       "      <td>Maya Bazaar</td>\n",
       "      <td>1957</td>\n",
       "      <td>U</td>\n",
       "      <td>Comedy, Drama, Family</td>\n",
       "      <td>Balarama promises Subhadra to get his daug...</td>\n",
       "      <td>192</td>\n",
       "      <td>9.2</td>\n",
       "      <td>3733</td>\n",
       "    </tr>\n",
       "    <tr>\n",
       "      <th>378</th>\n",
       "      <td>Missamma</td>\n",
       "      <td>1955</td>\n",
       "      <td>U</td>\n",
       "      <td>Comedy, Drama, Family</td>\n",
       "      <td>Two unemployed college graduates from Madr...</td>\n",
       "      <td>181</td>\n",
       "      <td>8.5</td>\n",
       "      <td>754</td>\n",
       "    </tr>\n",
       "    <tr>\n",
       "      <th>437</th>\n",
       "      <td>Pathala Bhairavi</td>\n",
       "      <td>1951</td>\n",
       "      <td>U</td>\n",
       "      <td>Action, Adventure, Family</td>\n",
       "      <td>A poor man, in love with a princess, is pe...</td>\n",
       "      <td>192</td>\n",
       "      <td>8.5</td>\n",
       "      <td>592</td>\n",
       "    </tr>\n",
       "    <tr>\n",
       "      <th>732</th>\n",
       "      <td>Devadasu</td>\n",
       "      <td>1953</td>\n",
       "      <td>U</td>\n",
       "      <td>Drama, Family, Musical</td>\n",
       "      <td>Adapted from a popular Bengali novel, Deva...</td>\n",
       "      <td>191</td>\n",
       "      <td>7.4</td>\n",
       "      <td>235</td>\n",
       "    </tr>\n",
       "    <tr>\n",
       "      <th>878</th>\n",
       "      <td>Malliswari</td>\n",
       "      <td>1951</td>\n",
       "      <td>U</td>\n",
       "      <td>Drama, History, Musical</td>\n",
       "      <td>Nagaraju and Malliswari want to get marrie...</td>\n",
       "      <td>194</td>\n",
       "      <td>7.0</td>\n",
       "      <td>144</td>\n",
       "    </tr>\n",
       "    <tr>\n",
       "      <th>893</th>\n",
       "      <td>Bhookailas</td>\n",
       "      <td>1958</td>\n",
       "      <td>U</td>\n",
       "      <td>Drama, Musical</td>\n",
       "      <td>Ravana, the king of Lanka gets tricked by ...</td>\n",
       "      <td>174</td>\n",
       "      <td>7.1</td>\n",
       "      <td>138</td>\n",
       "    </tr>\n",
       "    <tr>\n",
       "      <th>991</th>\n",
       "      <td>Kanchana</td>\n",
       "      <td>1952</td>\n",
       "      <td>U</td>\n",
       "      <td>Drama</td>\n",
       "      <td>Unknown</td>\n",
       "      <td>165</td>\n",
       "      <td>7.0</td>\n",
       "      <td>106</td>\n",
       "    </tr>\n",
       "    <tr>\n",
       "      <th>1061</th>\n",
       "      <td>Appu Chesi Pappu Koodu</td>\n",
       "      <td>1959</td>\n",
       "      <td>U</td>\n",
       "      <td>Comedy, Drama</td>\n",
       "      <td>Ramadasu wants his son to marry Manjari to...</td>\n",
       "      <td>176</td>\n",
       "      <td>8.0</td>\n",
       "      <td>91</td>\n",
       "    </tr>\n",
       "    <tr>\n",
       "      <th>1069</th>\n",
       "      <td>Kanyasulkam</td>\n",
       "      <td>1955</td>\n",
       "      <td>U</td>\n",
       "      <td>Drama</td>\n",
       "      <td>Kanyasulkam is an adaptation of the popula...</td>\n",
       "      <td>167</td>\n",
       "      <td>7.9</td>\n",
       "      <td>90</td>\n",
       "    </tr>\n",
       "    <tr>\n",
       "      <th>1224</th>\n",
       "      <td>Bhakta Prahlada</td>\n",
       "      <td>1932</td>\n",
       "      <td>U</td>\n",
       "      <td>Drama, Fantasy</td>\n",
       "      <td>Bhakta Prahlada is the first full length T...</td>\n",
       "      <td>108</td>\n",
       "      <td>7.1</td>\n",
       "      <td>66</td>\n",
       "    </tr>\n",
       "    <tr>\n",
       "      <th>1345</th>\n",
       "      <td>Panduranga Mahatyam</td>\n",
       "      <td>1957</td>\n",
       "      <td>U</td>\n",
       "      <td>Drama, History, Musical</td>\n",
       "      <td>Pundarika a young man who is an atheist, n...</td>\n",
       "      <td>Unknown</td>\n",
       "      <td>8.2</td>\n",
       "      <td>54</td>\n",
       "    </tr>\n",
       "  </tbody>\n",
       "</table>\n",
       "</div>"
      ],
      "text/plain": [
       "                       Movie  Year Certificate  \\\n",
       "92               Maya Bazaar  1957           U   \n",
       "378                 Missamma  1955           U   \n",
       "437         Pathala Bhairavi  1951           U   \n",
       "732                 Devadasu  1953           U   \n",
       "878               Malliswari  1951           U   \n",
       "893               Bhookailas  1958           U   \n",
       "991                 Kanchana  1952           U   \n",
       "1061  Appu Chesi Pappu Koodu  1959           U   \n",
       "1069             Kanyasulkam  1955           U   \n",
       "1224         Bhakta Prahlada  1932           U   \n",
       "1345     Panduranga Mahatyam  1957           U   \n",
       "\n",
       "                                      Genre  \\\n",
       "92        Comedy, Drama, Family               \n",
       "378       Comedy, Drama, Family               \n",
       "437   Action, Adventure, Family               \n",
       "732      Drama, Family, Musical               \n",
       "878     Drama, History, Musical               \n",
       "893              Drama, Musical               \n",
       "991                       Drama               \n",
       "1061              Comedy, Drama               \n",
       "1069                      Drama               \n",
       "1224             Drama, Fantasy               \n",
       "1345    Drama, History, Musical               \n",
       "\n",
       "                                               Overview  Runtime  Rating  \\\n",
       "92        Balarama promises Subhadra to get his daug...      192     9.2   \n",
       "378       Two unemployed college graduates from Madr...      181     8.5   \n",
       "437       A poor man, in love with a princess, is pe...      192     8.5   \n",
       "732       Adapted from a popular Bengali novel, Deva...      191     7.4   \n",
       "878       Nagaraju and Malliswari want to get marrie...      194     7.0   \n",
       "893       Ravana, the king of Lanka gets tricked by ...      174     7.1   \n",
       "991                                             Unknown      165     7.0   \n",
       "1061      Ramadasu wants his son to marry Manjari to...      176     8.0   \n",
       "1069      Kanyasulkam is an adaptation of the popula...      167     7.9   \n",
       "1224      Bhakta Prahlada is the first full length T...      108     7.1   \n",
       "1345      Pundarika a young man who is an atheist, n...  Unknown     8.2   \n",
       "\n",
       "      No.of.Ratings  \n",
       "92             3733  \n",
       "378             754  \n",
       "437             592  \n",
       "732             235  \n",
       "878             144  \n",
       "893             138  \n",
       "991             106  \n",
       "1061             91  \n",
       "1069             90  \n",
       "1224             66  \n",
       "1345             54  "
      ]
     },
     "execution_count": 450,
     "metadata": {},
     "output_type": "execute_result"
    }
   ],
   "source": [
    "df_known_years = df[df['Year'] != 'Unknown'].copy()\n",
    "df_known_years.loc[:, 'Year'] = df_known_years['Year'].astype(int)\n",
    "df_known_years[df_known_years['Year'] < 1960]\n"
   ]
  },
  {
   "cell_type": "markdown",
   "id": "b1ff9eab-18e4-4339-abab-78ea54fc4d70",
   "metadata": {},
   "source": [
    "- Verified 'Year' values via external sources (IMDb/Wikipedia)\n",
    "- All 11 movies have correct release years; no further corrections needed.\n"
   ]
  },
  {
   "cell_type": "code",
   "execution_count": 453,
   "id": "8715b410-f6db-4993-a4b4-e6c6b9ee7325",
   "metadata": {},
   "outputs": [
    {
     "data": {
      "image/png": "[encoded data removed]",
      "text/plain": [
       "<Figure size 1000x600 with 1 Axes>"
      ]
     },
     "metadata": {},
     "output_type": "display_data"
    }
   ],
   "source": [
    "df_known_years['Year'] = df_known_years['Year'].astype(int)\n",
    "plt.figure(figsize=(10, 6))\n",
    "sns.histplot(df_known_years['Year'], bins=15, kde=True, color='skyblue')\n",
    "plt.title('Distribution of Movie Release Years')\n",
    "plt.xlabel('Year')\n",
    "plt.ylabel('Count')\n",
    "plt.xticks(rotation=45)\n",
    "plt.show()\n"
   ]
  },
  {
   "cell_type": "markdown",
   "id": "5a937e04-4819-4cae-b6ff-8ea837418806",
   "metadata": {},
   "source": [
    "### Certificate Distribution"
   ]
  },
  {
   "cell_type": "code",
   "execution_count": 456,
   "id": "3e251049-34e8-4d9f-94c5-e443d648c603",
   "metadata": {},
   "outputs": [
    {
     "data": {
      "text/plain": [
       "Certificate\n",
       "U            751\n",
       "UA           441\n",
       "A            154\n",
       "Unknown       26\n",
       "Unrated        7\n",
       "Not Rated      4\n",
       "U/A            4\n",
       "PG-13          2\n",
       "Name: count, dtype: int64"
      ]
     },
     "execution_count": 456,
     "metadata": {},
     "output_type": "execute_result"
    }
   ],
   "source": [
    "df.Certificate.value_counts()"
   ]
  },
  {
   "cell_type": "code",
   "execution_count": 458,
   "id": "ce07c243-869a-45b9-ace6-e1061b4cb6f6",
   "metadata": {},
   "outputs": [],
   "source": [
    "df['Certificate'] = df['Certificate'].replace('PG-13','U/A')\n",
    "df['Certificate'] = df['Certificate'].replace('Unrated','Unknown')\n",
    "df['Certificate'] = df['Certificate'].replace('Not Rated','Unknown')"
   ]
  },
  {
   "cell_type": "code",
   "execution_count": 459,
   "id": "2322a30f-ceaf-42f6-a958-94539af2d7c7",
   "metadata": {},
   "outputs": [
    {
     "data": {
      "text/plain": [
       "Certificate\n",
       "U          751\n",
       "UA         441\n",
       "A          154\n",
       "Unknown     37\n",
       "U/A          6\n",
       "Name: count, dtype: int64"
      ]
     },
     "execution_count": 459,
     "metadata": {},
     "output_type": "execute_result"
    }
   ],
   "source": [
    "df.Certificate.value_counts()"
   ]
  },
  {
   "cell_type": "code",
   "execution_count": 461,
   "id": "343abb88-da88-4647-a9d9-8155b5b1c688",
   "metadata": {},
   "outputs": [
    {
     "data": {
      "image/png": "[encoded data removed]",
      "text/plain": [
       "<Figure size 800x500 with 1 Axes>"
      ]
     },
     "metadata": {},
     "output_type": "display_data"
    }
   ],
   "source": [
    "plt.figure(figsize=(8, 5))\n",
    "plt.pie(df.Certificate.value_counts(), labels=df.Certificate.value_counts().index, autopct='%1.1f%%')\n",
    "plt.title('Distribution of Movie Certifications')\n",
    "plt.axis('equal')\n",
    "plt.show()"
   ]
  },
  {
   "cell_type": "code",
   "execution_count": 462,
   "id": "1f247a8d-a1fb-47bd-b7da-3f26d6fbbd28",
   "metadata": {},
   "outputs": [
    {
     "data": {
      "image/png": "[encoded data removed]",
      "text/plain": [
       "<Figure size 800x600 with 1 Axes>"
      ]
     },
     "metadata": {},
     "output_type": "display_data"
    }
   ],
   "source": [
    "df_clean = df[df['Runtime'] != 'Unknown'].copy()\n",
    "df_clean['Runtime'] = df_clean['Runtime'].astype(int)\n",
    "plt.figure(figsize=(8, 6))\n",
    "sns.scatterplot(data=df_clean, x='Runtime', y='Rating')\n",
    "plt.title('Runtime vs Rating')\n",
    "plt.xlabel('Runtime (in minutes)')\n",
    "plt.ylabel('IMDB Rating')\n",
    "plt.show()\n"
   ]
  },
  {
   "cell_type": "code",
   "execution_count": 463,
   "id": "c1c2aabd-f7cc-4058-a733-b185622af4c2",
   "metadata": {},
   "outputs": [
    {
     "data": {
      "image/png": "[encoded data removed]",
      "text/plain": [
       "<Figure size 640x480 with 1 Axes>"
      ]
     },
     "metadata": {},
     "output_type": "display_data"
    }
   ],
   "source": [
    "sns.scatterplot(data=df, x='Certificate', y='Rating')\n",
    "plt.show()"
   ]
  },
  {
   "cell_type": "markdown",
   "id": "5d172ea6-2326-4e76-8b1e-db3b2055e468",
   "metadata": {},
   "source": [
    "## 3. Feature Engineering\n",
    "\n",
    "We now transform raw textual fields into numerical formats using **TF-IDF Vectorization**, a technique that converts text into feature vectors.\n",
    "\n",
    "We'll create:\n",
    "- TF-IDF matrix for genres\n",
    "- TF-IDF matrix for plot summaries\n",
    "- Cosine similarity matrices to measure movie-to-movie distance"
   ]
  },
  {
   "cell_type": "code",
   "execution_count": 465,
   "id": "fa0ea0fa-0481-4388-9179-93630509634b",
   "metadata": {},
   "outputs": [],
   "source": [
    "df['Genre'] = df['Genre'].apply(lambda x: [genre.strip() for genre in str(x).split(',')])"
   ]
  },
  {
   "cell_type": "code",
   "execution_count": 466,
   "id": "326cb68f-91b5-4083-b492-d67829faee88",
   "metadata": {},
   "outputs": [
    {
     "data": {
      "text/html": [
       "<div>\n",
       "<style scoped>\n",
       "    .dataframe tbody tr th:only-of-type {\n",
       "        vertical-align: middle;\n",
       "    }\n",
       "\n",
       "    .dataframe tbody tr th {\n",
       "        vertical-align: top;\n",
       "    }\n",
       "\n",
       "    .dataframe thead th {\n",
       "        text-align: right;\n",
       "    }\n",
       "</style>\n",
       "<table border=\"1\" class=\"dataframe\">\n",
       "  <thead>\n",
       "    <tr style=\"text-align: right;\">\n",
       "      <th></th>\n",
       "      <th>Movie</th>\n",
       "      <th>Year</th>\n",
       "      <th>Certificate</th>\n",
       "      <th>Genre</th>\n",
       "      <th>Overview</th>\n",
       "      <th>Runtime</th>\n",
       "      <th>Rating</th>\n",
       "      <th>No.of.Ratings</th>\n",
       "    </tr>\n",
       "  </thead>\n",
       "  <tbody>\n",
       "    <tr>\n",
       "      <th>0</th>\n",
       "      <td>Bahubali: The Beginning</td>\n",
       "      <td>2015</td>\n",
       "      <td>UA</td>\n",
       "      <td>[Action, Drama]</td>\n",
       "      <td>In ancient India, an adventurous and darin...</td>\n",
       "      <td>159</td>\n",
       "      <td>8.1</td>\n",
       "      <td>99114</td>\n",
       "    </tr>\n",
       "    <tr>\n",
       "      <th>1</th>\n",
       "      <td>Baahubali 2: The Conclusion</td>\n",
       "      <td>2017</td>\n",
       "      <td>UA</td>\n",
       "      <td>[Action, Drama]</td>\n",
       "      <td>When Shiva, the son of Bahubali, learns ab...</td>\n",
       "      <td>167</td>\n",
       "      <td>8.2</td>\n",
       "      <td>71458</td>\n",
       "    </tr>\n",
       "    <tr>\n",
       "      <th>2</th>\n",
       "      <td>1 - Nenokkadine</td>\n",
       "      <td>2014</td>\n",
       "      <td>UA</td>\n",
       "      <td>[Action, Thriller]</td>\n",
       "      <td>A rock star must overcome his psychologica...</td>\n",
       "      <td>170</td>\n",
       "      <td>8.1</td>\n",
       "      <td>42372</td>\n",
       "    </tr>\n",
       "    <tr>\n",
       "      <th>3</th>\n",
       "      <td>Dhoom:3</td>\n",
       "      <td>2013</td>\n",
       "      <td>UA</td>\n",
       "      <td>[Action, Thriller]</td>\n",
       "      <td>When Sahir, a circus entertainer trained i...</td>\n",
       "      <td>172</td>\n",
       "      <td>5.4</td>\n",
       "      <td>42112</td>\n",
       "    </tr>\n",
       "    <tr>\n",
       "      <th>4</th>\n",
       "      <td>Ra.One</td>\n",
       "      <td>2011</td>\n",
       "      <td>U</td>\n",
       "      <td>[Action, Adventure, Sci-Fi]</td>\n",
       "      <td>When the titular antagonist of an action g...</td>\n",
       "      <td>156</td>\n",
       "      <td>4.6</td>\n",
       "      <td>37211</td>\n",
       "    </tr>\n",
       "  </tbody>\n",
       "</table>\n",
       "</div>"
      ],
      "text/plain": [
       "                         Movie  Year Certificate                        Genre  \\\n",
       "0      Bahubali: The Beginning  2015          UA              [Action, Drama]   \n",
       "1  Baahubali 2: The Conclusion  2017          UA              [Action, Drama]   \n",
       "2              1 - Nenokkadine  2014          UA           [Action, Thriller]   \n",
       "3                      Dhoom:3  2013          UA           [Action, Thriller]   \n",
       "4                       Ra.One  2011           U  [Action, Adventure, Sci-Fi]   \n",
       "\n",
       "                                            Overview Runtime  Rating  \\\n",
       "0      In ancient India, an adventurous and darin...     159     8.1   \n",
       "1      When Shiva, the son of Bahubali, learns ab...     167     8.2   \n",
       "2      A rock star must overcome his psychologica...     170     8.1   \n",
       "3      When Sahir, a circus entertainer trained i...     172     5.4   \n",
       "4      When the titular antagonist of an action g...     156     4.6   \n",
       "\n",
       "   No.of.Ratings  \n",
       "0          99114  \n",
       "1          71458  \n",
       "2          42372  \n",
       "3          42112  \n",
       "4          37211  "
      ]
     },
     "execution_count": 466,
     "metadata": {},
     "output_type": "execute_result"
    }
   ],
   "source": [
    "df.head()"
   ]
  },
  {
   "cell_type": "code",
   "execution_count": 467,
   "id": "97f98aea-4734-4942-a9f0-ff8e199a0f9f",
   "metadata": {},
   "outputs": [
    {
     "name": "stdout",
     "output_type": "stream",
     "text": [
      "Total unique genres: 20\n",
      "Sample genre counts: [('Drama', 708), ('Action', 630), ('Comedy', 420), ('Romance', 354), ('Thriller', 173), ('Crime', 84), ('Family', 83), ('Fantasy', 52), ('Musical', 52), ('Horror', 40)]\n"
     ]
    }
   ],
   "source": [
    "from collections import Counter\n",
    "all_genres = [genre for sublist in df['Genre'] for genre in sublist]\n",
    "genre_counts = Counter(all_genres)\n",
    "print(f\"Total unique genres: {len(genre_counts)}\")\n",
    "print(\"Sample genre counts:\", genre_counts.most_common(10))\n"
   ]
  },
  {
   "cell_type": "code",
   "execution_count": 468,
   "id": "d40976ff-1dd5-4440-b058-ddb59e622ead",
   "metadata": {},
   "outputs": [],
   "source": [
    "df['Overview'] = df['Overview'].fillna('unknown')\n",
    "df['Overview_clean'] = df['Overview'].str.lower().str.replace('[^a-zA-Z0-9 ]', '', regex=True)\n"
   ]
  },
  {
   "cell_type": "code",
   "execution_count": 469,
   "id": "4ed4e8b9-45e0-4f8a-90f2-1dd445a94646",
   "metadata": {},
   "outputs": [
    {
     "data": {
      "text/html": [
       "<div>\n",
       "<style scoped>\n",
       "    .dataframe tbody tr th:only-of-type {\n",
       "        vertical-align: middle;\n",
       "    }\n",
       "\n",
       "    .dataframe tbody tr th {\n",
       "        vertical-align: top;\n",
       "    }\n",
       "\n",
       "    .dataframe thead th {\n",
       "        text-align: right;\n",
       "    }\n",
       "</style>\n",
       "<table border=\"1\" class=\"dataframe\">\n",
       "  <thead>\n",
       "    <tr style=\"text-align: right;\">\n",
       "      <th></th>\n",
       "      <th>Movie</th>\n",
       "      <th>Year</th>\n",
       "      <th>Certificate</th>\n",
       "      <th>Genre</th>\n",
       "      <th>Overview</th>\n",
       "      <th>Runtime</th>\n",
       "      <th>Rating</th>\n",
       "      <th>No.of.Ratings</th>\n",
       "      <th>Overview_clean</th>\n",
       "    </tr>\n",
       "  </thead>\n",
       "  <tbody>\n",
       "    <tr>\n",
       "      <th>0</th>\n",
       "      <td>Bahubali: The Beginning</td>\n",
       "      <td>2015</td>\n",
       "      <td>UA</td>\n",
       "      <td>[Action, Drama]</td>\n",
       "      <td>In ancient India, an adventurous and darin...</td>\n",
       "      <td>159</td>\n",
       "      <td>8.1</td>\n",
       "      <td>99114</td>\n",
       "      <td>in ancient india an adventurous and daring...</td>\n",
       "    </tr>\n",
       "    <tr>\n",
       "      <th>1</th>\n",
       "      <td>Baahubali 2: The Conclusion</td>\n",
       "      <td>2017</td>\n",
       "      <td>UA</td>\n",
       "      <td>[Action, Drama]</td>\n",
       "      <td>When Shiva, the son of Bahubali, learns ab...</td>\n",
       "      <td>167</td>\n",
       "      <td>8.2</td>\n",
       "      <td>71458</td>\n",
       "      <td>when shiva the son of bahubali learns abou...</td>\n",
       "    </tr>\n",
       "    <tr>\n",
       "      <th>2</th>\n",
       "      <td>1 - Nenokkadine</td>\n",
       "      <td>2014</td>\n",
       "      <td>UA</td>\n",
       "      <td>[Action, Thriller]</td>\n",
       "      <td>A rock star must overcome his psychologica...</td>\n",
       "      <td>170</td>\n",
       "      <td>8.1</td>\n",
       "      <td>42372</td>\n",
       "      <td>a rock star must overcome his psychologica...</td>\n",
       "    </tr>\n",
       "    <tr>\n",
       "      <th>3</th>\n",
       "      <td>Dhoom:3</td>\n",
       "      <td>2013</td>\n",
       "      <td>UA</td>\n",
       "      <td>[Action, Thriller]</td>\n",
       "      <td>When Sahir, a circus entertainer trained i...</td>\n",
       "      <td>172</td>\n",
       "      <td>5.4</td>\n",
       "      <td>42112</td>\n",
       "      <td>when sahir a circus entertainer trained in...</td>\n",
       "    </tr>\n",
       "    <tr>\n",
       "      <th>4</th>\n",
       "      <td>Ra.One</td>\n",
       "      <td>2011</td>\n",
       "      <td>U</td>\n",
       "      <td>[Action, Adventure, Sci-Fi]</td>\n",
       "      <td>When the titular antagonist of an action g...</td>\n",
       "      <td>156</td>\n",
       "      <td>4.6</td>\n",
       "      <td>37211</td>\n",
       "      <td>when the titular antagonist of an action g...</td>\n",
       "    </tr>\n",
       "  </tbody>\n",
       "</table>\n",
       "</div>"
      ],
      "text/plain": [
       "                         Movie  Year Certificate                        Genre  \\\n",
       "0      Bahubali: The Beginning  2015          UA              [Action, Drama]   \n",
       "1  Baahubali 2: The Conclusion  2017          UA              [Action, Drama]   \n",
       "2              1 - Nenokkadine  2014          UA           [Action, Thriller]   \n",
       "3                      Dhoom:3  2013          UA           [Action, Thriller]   \n",
       "4                       Ra.One  2011           U  [Action, Adventure, Sci-Fi]   \n",
       "\n",
       "                                            Overview Runtime  Rating  \\\n",
       "0      In ancient India, an adventurous and darin...     159     8.1   \n",
       "1      When Shiva, the son of Bahubali, learns ab...     167     8.2   \n",
       "2      A rock star must overcome his psychologica...     170     8.1   \n",
       "3      When Sahir, a circus entertainer trained i...     172     5.4   \n",
       "4      When the titular antagonist of an action g...     156     4.6   \n",
       "\n",
       "   No.of.Ratings                                     Overview_clean  \n",
       "0          99114      in ancient india an adventurous and daring...  \n",
       "1          71458      when shiva the son of bahubali learns abou...  \n",
       "2          42372      a rock star must overcome his psychologica...  \n",
       "3          42112      when sahir a circus entertainer trained in...  \n",
       "4          37211      when the titular antagonist of an action g...  "
      ]
     },
     "execution_count": 469,
     "metadata": {},
     "output_type": "execute_result"
    }
   ],
   "source": [
    "df.head()"
   ]
  },
  {
   "cell_type": "code",
   "execution_count": 470,
   "id": "d237c0ac-61d2-46b9-97a7-e92b8d7a5064",
   "metadata": {},
   "outputs": [],
   "source": [
    "# For genre TF-IDF\n",
    "df['Genre_str'] = df['Genre'].apply(lambda x: ' '.join(x))\n",
    "\n",
    "# For summary embeddings (prep for vectorization in the next steps)\n",
    "summaries = df['Overview_clean'].tolist()"
   ]
  },
  {
   "cell_type": "code",
   "execution_count": 471,
   "id": "c13fe0a5-0852-4145-9549-aba789e5cba2",
   "metadata": {},
   "outputs": [
    {
     "data": {
      "text/html": [
       "<div>\n",
       "<style scoped>\n",
       "    .dataframe tbody tr th:only-of-type {\n",
       "        vertical-align: middle;\n",
       "    }\n",
       "\n",
       "    .dataframe tbody tr th {\n",
       "        vertical-align: top;\n",
       "    }\n",
       "\n",
       "    .dataframe thead th {\n",
       "        text-align: right;\n",
       "    }\n",
       "</style>\n",
       "<table border=\"1\" class=\"dataframe\">\n",
       "  <thead>\n",
       "    <tr style=\"text-align: right;\">\n",
       "      <th></th>\n",
       "      <th>Movie</th>\n",
       "      <th>Year</th>\n",
       "      <th>Certificate</th>\n",
       "      <th>Genre</th>\n",
       "      <th>Overview</th>\n",
       "      <th>Runtime</th>\n",
       "      <th>Rating</th>\n",
       "      <th>No.of.Ratings</th>\n",
       "      <th>Overview_clean</th>\n",
       "      <th>Genre_str</th>\n",
       "    </tr>\n",
       "  </thead>\n",
       "  <tbody>\n",
       "    <tr>\n",
       "      <th>0</th>\n",
       "      <td>Bahubali: The Beginning</td>\n",
       "      <td>2015</td>\n",
       "      <td>UA</td>\n",
       "      <td>[Action, Drama]</td>\n",
       "      <td>In ancient India, an adventurous and darin...</td>\n",
       "      <td>159</td>\n",
       "      <td>8.1</td>\n",
       "      <td>99114</td>\n",
       "      <td>in ancient india an adventurous and daring...</td>\n",
       "      <td>Action Drama</td>\n",
       "    </tr>\n",
       "    <tr>\n",
       "      <th>1</th>\n",
       "      <td>Baahubali 2: The Conclusion</td>\n",
       "      <td>2017</td>\n",
       "      <td>UA</td>\n",
       "      <td>[Action, Drama]</td>\n",
       "      <td>When Shiva, the son of Bahubali, learns ab...</td>\n",
       "      <td>167</td>\n",
       "      <td>8.2</td>\n",
       "      <td>71458</td>\n",
       "      <td>when shiva the son of bahubali learns abou...</td>\n",
       "      <td>Action Drama</td>\n",
       "    </tr>\n",
       "    <tr>\n",
       "      <th>2</th>\n",
       "      <td>1 - Nenokkadine</td>\n",
       "      <td>2014</td>\n",
       "      <td>UA</td>\n",
       "      <td>[Action, Thriller]</td>\n",
       "      <td>A rock star must overcome his psychologica...</td>\n",
       "      <td>170</td>\n",
       "      <td>8.1</td>\n",
       "      <td>42372</td>\n",
       "      <td>a rock star must overcome his psychologica...</td>\n",
       "      <td>Action Thriller</td>\n",
       "    </tr>\n",
       "    <tr>\n",
       "      <th>3</th>\n",
       "      <td>Dhoom:3</td>\n",
       "      <td>2013</td>\n",
       "      <td>UA</td>\n",
       "      <td>[Action, Thriller]</td>\n",
       "      <td>When Sahir, a circus entertainer trained i...</td>\n",
       "      <td>172</td>\n",
       "      <td>5.4</td>\n",
       "      <td>42112</td>\n",
       "      <td>when sahir a circus entertainer trained in...</td>\n",
       "      <td>Action Thriller</td>\n",
       "    </tr>\n",
       "    <tr>\n",
       "      <th>4</th>\n",
       "      <td>Ra.One</td>\n",
       "      <td>2011</td>\n",
       "      <td>U</td>\n",
       "      <td>[Action, Adventure, Sci-Fi]</td>\n",
       "      <td>When the titular antagonist of an action g...</td>\n",
       "      <td>156</td>\n",
       "      <td>4.6</td>\n",
       "      <td>37211</td>\n",
       "      <td>when the titular antagonist of an action g...</td>\n",
       "      <td>Action Adventure Sci-Fi</td>\n",
       "    </tr>\n",
       "  </tbody>\n",
       "</table>\n",
       "</div>"
      ],
      "text/plain": [
       "                         Movie  Year Certificate                        Genre  \\\n",
       "0      Bahubali: The Beginning  2015          UA              [Action, Drama]   \n",
       "1  Baahubali 2: The Conclusion  2017          UA              [Action, Drama]   \n",
       "2              1 - Nenokkadine  2014          UA           [Action, Thriller]   \n",
       "3                      Dhoom:3  2013          UA           [Action, Thriller]   \n",
       "4                       Ra.One  2011           U  [Action, Adventure, Sci-Fi]   \n",
       "\n",
       "                                            Overview Runtime  Rating  \\\n",
       "0      In ancient India, an adventurous and darin...     159     8.1   \n",
       "1      When Shiva, the son of Bahubali, learns ab...     167     8.2   \n",
       "2      A rock star must overcome his psychologica...     170     8.1   \n",
       "3      When Sahir, a circus entertainer trained i...     172     5.4   \n",
       "4      When the titular antagonist of an action g...     156     4.6   \n",
       "\n",
       "   No.of.Ratings                                     Overview_clean  \\\n",
       "0          99114      in ancient india an adventurous and daring...   \n",
       "1          71458      when shiva the son of bahubali learns abou...   \n",
       "2          42372      a rock star must overcome his psychologica...   \n",
       "3          42112      when sahir a circus entertainer trained in...   \n",
       "4          37211      when the titular antagonist of an action g...   \n",
       "\n",
       "                 Genre_str  \n",
       "0             Action Drama  \n",
       "1             Action Drama  \n",
       "2          Action Thriller  \n",
       "3          Action Thriller  \n",
       "4  Action Adventure Sci-Fi  "
      ]
     },
     "execution_count": 471,
     "metadata": {},
     "output_type": "execute_result"
    }
   ],
   "source": [
    "df.head()"
   ]
  },
  {
   "cell_type": "code",
   "execution_count": 472,
   "id": "2ab2608b-04f3-4f2a-8580-efd004889625",
   "metadata": {},
   "outputs": [
    {
     "data": {
      "text/plain": [
       "array(['action', 'adventure', 'animation', 'biography', 'comedy', 'crime',\n",
       "       'drama', 'family', 'fantasy', 'history', 'horror', 'music',\n",
       "       'musical', 'mystery', 'romance', 'sci-fi', 'sport', 'thriller',\n",
       "       'war', 'western'], dtype=object)"
      ]
     },
     "execution_count": 472,
     "metadata": {},
     "output_type": "execute_result"
    }
   ],
   "source": [
    "from sklearn.feature_extraction.text import TfidfVectorizer\n",
    "\n",
    "# Each movie’s genres as a space-separated string\n",
    "genre_corpus = df['Genre_str'].tolist()\n",
    "\n",
    "genre_vectorizer = TfidfVectorizer(token_pattern=r'(?u)\\b[\\w-]+\\b')\n",
    "genre_tfidf_matrix = genre_vectorizer.fit_transform(genre_corpus)\n",
    "genre_feature_names = genre_vectorizer.get_feature_names_out()\n",
    "genre_feature_names"
   ]
  },
  {
   "cell_type": "code",
   "execution_count": 473,
   "id": "0d9a82f7-5a0d-4a8a-81fb-62e802543c61",
   "metadata": {},
   "outputs": [
    {
     "data": {
      "text/plain": [
       "array(['10', '12', '13', ..., 'youth', 'youthful', 'yvs'], dtype=object)"
      ]
     },
     "execution_count": 473,
     "metadata": {},
     "output_type": "execute_result"
    }
   ],
   "source": [
    "Overview_vectorizer = TfidfVectorizer(stop_words='english', max_features=3000)\n",
    "Overview_tfidf_matrix = Overview_vectorizer.fit_transform(df['Overview_clean'])\n",
    "Overview_feature_names = Overview_vectorizer.get_feature_names_out()\n",
    "Overview_feature_names"
   ]
  },
  {
   "cell_type": "code",
   "execution_count": 474,
   "id": "e42a4153-0d1a-4b9d-aa5a-b6a5c7735c1d",
   "metadata": {},
   "outputs": [],
   "source": [
    "from sklearn.metrics.pairwise import cosine_similarity\n",
    "\n",
    "Overview_sim_matrix = cosine_similarity(Overview_tfidf_matrix)\n",
    "genre_sim_matrix = cosine_similarity(genre_tfidf_matrix)\n"
   ]
  },
  {
   "cell_type": "markdown",
   "id": "78b0e82e-bfe9-47b6-83a6-89b59fe8c1cc",
   "metadata": {},
   "source": [
    "## 4. Recommendation Engine\n",
    "\n",
    "This section contains:\n",
    "- A genre-based recommender that selects top-rated movies within a selected genre using TF-IDF scores.\n",
    "- An overview-based recommender that finds movies similar in plot/theme to a given title using cosine similarity on TF-IDF vectors of summaries."
   ]
  },
  {
   "cell_type": "code",
   "execution_count": 479,
   "id": "c52b950c-820f-4a3e-9448-d56f7810c8d9",
   "metadata": {},
   "outputs": [],
   "source": [
    "def get_similar_movies_by_Overview(movie_idx, top_n=5):\n",
    "    # Returns indices of top_n most similar movies, excluding the movie itself\n",
    "    sims = Overview_sim_matrix[movie_idx]\n",
    "    similar_indices = sims.argsort()[::-1][1:top_n+1]\n",
    "    return similar_indices\n"
   ]
  },
  {
   "cell_type": "code",
   "execution_count": 480,
   "id": "67583b71-f666-4ad0-89a3-ecd45cd25696",
   "metadata": {},
   "outputs": [],
   "source": [
    "def get_movies_with_high_tfidf(selected_genre, threshold=0.8):\n",
    "    # Find movies where the TF-IDF score for the selected genre is in the top 20%\n",
    "    if selected_genre not in genre_feature_names:\n",
    "        return []\n",
    "    genre_idx = list(genre_feature_names).index(selected_genre)\n",
    "    scores = genre_tfidf_matrix[:, genre_idx].toarray().flatten()\n",
    "    score_thresh = pd.Series(scores).quantile(threshold)\n",
    "    return list(df.index[scores >= score_thresh])\n"
   ]
  },
  {
   "cell_type": "code",
   "execution_count": 481,
   "id": "4cb8ff12-6964-4bf2-a202-7c6c28a9ac14",
   "metadata": {},
   "outputs": [],
   "source": [
    "def recommend_movies(selected_genre, top_n=10):\n",
    "    \"\"\"\n",
    "    Recommends top movies for a given genre, sorted by rating and TF-IDF score.\n",
    "    \n",
    "    Args:\n",
    "        selected_genre (str): The genre to filter movies by.\n",
    "        top_n (int): Number of top movies to return (default 10).\n",
    "    \n",
    "    Returns:\n",
    "        pd.DataFrame: DataFrame with columns ['Movie', 'Genre', 'Rating', 'Overview'].\n",
    "    \"\"\"\n",
    "    # Use lower-case for genre to avoid mismatch\n",
    "    high_tfidf_indices = get_movies_with_high_tfidf(selected_genre.lower(), threshold=0.8)\n",
    "    filtered_df = df.loc[high_tfidf_indices].copy()\n",
    "    if filtered_df.empty:\n",
    "        return pd.DataFrame(columns=['Movie', 'Genre', 'Rating', 'Overview'])\n",
    "    # Filter movies containing the selected genre\n",
    "    mask = filtered_df['Genre'].apply(lambda genres: selected_genre.lower() in [g.lower() for g in genres])\n",
    "    filtered_df = filtered_df[mask].copy()\n",
    "    if filtered_df.empty:\n",
    "        return pd.DataFrame(columns=['Movie', 'Genre', 'Rating', 'Overview'])\n",
    "    # Get genre TF-IDF score for the selected genre\n",
    "    try:\n",
    "        genre_idx = list(genre_feature_names).index(selected_genre.lower())\n",
    "        filtered_df['tfidf_score'] = genre_tfidf_matrix[filtered_df.index, genre_idx].toarray().flatten()\n",
    "    except ValueError:\n",
    "        # If genre not in TF-IDF vocabulary, use rating only\n",
    "        filtered_df['tfidf_score'] = 0\n",
    "    # Sort by rating, then by tfidf_score as a tie-breaker\n",
    "    filtered_df = filtered_df.sort_values(['Rating', 'tfidf_score'], ascending=[False, False])\n",
    "    return filtered_df[['Movie', 'Genre', 'Rating', 'Overview']].head(top_n)"
   ]
  },
  {
   "cell_type": "code",
   "execution_count": 482,
   "id": "9bbebfd7-8677-4409-b131-b24465ffdc0b",
   "metadata": {},
   "outputs": [],
   "source": [
    "def you_may_also_like(selected_movie_title, top_n=5, min_rating=6.0):\n",
    "    movie_idx = df.index[df['Movie'] == selected_movie_title][0]\n",
    "    similar_idxs = get_similar_movies_by_Overview(movie_idx, top_n=50)  # Get more candidates\n",
    "    recs = df.iloc[similar_idxs][['Movie', 'Genre', 'Rating', 'Overview']]\n",
    "    recs = recs[recs['Rating'] >= min_rating]  # Filter by min_rating\n",
    "    recs['Rec_Reason'] = f\"Shares similar themes with '{selected_movie_title}'\"\n",
    "    # Sort by similarity (already sorted), then by rating\n",
    "    recs = recs.sort_values('Rating', ascending=False)\n",
    "    return recs.head(top_n)\n"
   ]
  },
  {
   "cell_type": "markdown",
   "id": "226eda7d-e2f0-488a-bd90-e13c898b47b3",
   "metadata": {},
   "source": [
    "## 5. Graphical User Interface (GUI)\n",
    "\n",
    "We build an interactive interface using `tkinter` to let users:\n",
    "- Select a genre and view top recommended movies\n",
    "- View detailed information for any selected movie\n",
    "- Get content-based suggestions under “You May Also Like”"
   ]
  },
  {
   "cell_type": "code",
   "execution_count": 484,
   "id": "66e5e7e1-ed89-443c-9bf2-3accdad34b4f",
   "metadata": {},
   "outputs": [],
   "source": [
    "import tkinter as tk\n",
    "from tkinter import ttk\n",
    "import pandas as pd\n",
    "\n",
    "# Use your actual DataFrame\n",
    "data = df.copy()\n",
    "\n",
    "# Prepare genre-movie dictionary and unique genre list\n",
    "unique_genres = sorted({g.strip() for genres in data['Genre'] for g in genres})\n",
    "genre_movies_dict = {genre: [] for genre in unique_genres}\n",
    "for idx, row in data.iterrows():\n",
    "    for genre in row['Genre']:\n",
    "        genre_movies_dict[genre.strip()].append(row)\n",
    "\n",
    "# Create GUI\n",
    "window = tk.Tk()\n",
    "window.title(\"Movie Recommender\")\n",
    "\n",
    "# Genre dropdown\n",
    "genre_label = ttk.Label(window, text=\"Select Genre:\")\n",
    "genre_label.pack()\n",
    "genre_var = tk.StringVar()\n",
    "genre_dropdown = ttk.Combobox(window, textvariable=genre_var, values=unique_genres, state=\"readonly\")\n",
    "genre_dropdown.pack()\n",
    "\n",
    "# Recommend button\n",
    "recommend_button = ttk.Button(window, text=\"Recommend Movies\")\n",
    "recommend_button.pack()\n",
    "\n",
    "# Main recommendations table\n",
    "columns = (\"Sl.No\", \"Movie Name\", \"Year\", \"Rating\")\n",
    "movie_tree = ttk.Treeview(window, columns=columns, show=\"headings\", height=8)\n",
    "for col in columns:\n",
    "    movie_tree.heading(col, text=col)\n",
    "    movie_tree.column(col, width=300 if col == \"Movie Name\" else 100)\n",
    "movie_tree.pack()\n",
    "\n",
    "details_label = ttk.Label(window, text=\"Movie Details:\")\n",
    "details_label.pack()\n",
    "details_text = ttk.Label(window, text=\"\", wraplength=400, justify=\"left\")\n",
    "details_text.pack()\n",
    "\n",
    "# \"You May Also Like\" widgets\n",
    "ymal_label = ttk.Label(window, text='\"You May Also Like\"')\n",
    "ymal_tree = ttk.Treeview(window, columns=columns, show=\"headings\", height=4)\n",
    "for col in columns:\n",
    "    ymal_tree.heading(col, text=col)\n",
    "    ymal_tree.column(col, width=300 if col == \"Movie Name\" else 100)\n",
    "ymal_details_label = ttk.Label(window, text=\"Details for 'You May Also Like':\")\n",
    "ymal_details_text = ttk.Label(window, text=\"\", wraplength=400, justify=\"left\")\n",
    "\n",
    "result_label = ttk.Label(window, text=\"\")\n",
    "result_label.pack()\n",
    "\n",
    "# Hide \"You May Also Like\" at startup\n",
    "ymal_label.pack_forget()\n",
    "ymal_tree.pack_forget()\n",
    "ymal_details_label.pack_forget()\n",
    "ymal_details_text.pack_forget()\n",
    "\n",
    "def handle_recommend_movies():\n",
    "    \"\"\"\n",
    "    Handles the 'Recommend Movies' button click, displaying top 10 movies for the selected genre.\n",
    "    \"\"\"\n",
    "    selected_genre = genre_var.get()\n",
    "    if not selected_genre:\n",
    "        result_label.config(text=\"Please select a genre.\")\n",
    "        return\n",
    "    # Use the backend recommend_movies function to get top 10 movies\n",
    "    recommended = recommend_movies(selected_genre, top_n=10)\n",
    "    if recommended.empty:\n",
    "        result_label.config(text=f\"No movies found for {selected_genre}.\")\n",
    "        for item in movie_tree.get_children():\n",
    "            movie_tree.delete(item)\n",
    "        details_text.config(text=\"\")\n",
    "        ymal_label.pack_forget()\n",
    "        ymal_tree.pack_forget()\n",
    "        ymal_details_label.pack_forget()\n",
    "        ymal_details_text.pack_forget()\n",
    "        return\n",
    "    # Clear and fill main table\n",
    "    for item in movie_tree.get_children():\n",
    "        movie_tree.delete(item)\n",
    "    for i, row in enumerate(recommended.itertuples(), 1):\n",
    "        year = data[data['Movie'] == row.Movie]['Year'].iloc[0]\n",
    "        movie_tree.insert(\"\", \"end\", values=(i, row.Movie, year, row.Rating))\n",
    "    result_label.config(text=f\"Top {len(recommended)} movies for {selected_genre}.\")\n",
    "    details_text.config(text=\"\")\n",
    "    ymal_label.pack_forget()\n",
    "    ymal_tree.pack_forget()\n",
    "    ymal_details_label.pack_forget()\n",
    "    ymal_details_text.pack_forget()\n",
    "\n",
    "def display_movie_details(event):\n",
    "    \"\"\"\n",
    "    Displays details of a selected movie and populates 'You May Also Like' with similar movies.\n",
    "    \"\"\"\n",
    "    selected = movie_tree.selection()\n",
    "    if selected:\n",
    "        item = movie_tree.item(selected, \"values\")\n",
    "        movie_name = item[1]  # Movie Name is the second column\n",
    "        try:\n",
    "            row = data[data['Movie'] == movie_name].iloc[0]\n",
    "            runtime = row['Runtime'] if row['Runtime'] != 'Unknown' else 'Unknown'\n",
    "            details_text.config(text=f\"Year: {row['Year']}\\n\"\n",
    "                                    f\"Genre: {', '.join(row['Genre'])}\\n\"\n",
    "                                    f\"Certificate: {row['Certificate']}\\n\"\n",
    "                                    f\"Overview: {row['Overview']}\\n\"\n",
    "                                    f\"Runtime: {runtime}\\n\"\n",
    "                                    f\"Rating: {row['Rating']}\\n\")\n",
    "            # Use you_may_also_like for \"You May Also Like\" recommendations\n",
    "            similar = you_may_also_like(movie_name, top_n=4, min_rating=6.0)\n",
    "            for item in ymal_tree.get_children():\n",
    "                ymal_tree.delete(item)\n",
    "            for i, simrow in enumerate(similar.itertuples(), 1):\n",
    "                year = data[data['Movie'] == simrow.Movie]['Year'].iloc[0]\n",
    "                ymal_tree.insert(\"\", \"end\", values=(i, simrow.Movie, year, simrow.Rating))\n",
    "            ymal_label.pack()\n",
    "            ymal_tree.pack()\n",
    "            ymal_details_label.pack()\n",
    "            ymal_details_text.pack()\n",
    "        except IndexError:\n",
    "            details_text.config(text=\"Error: Movie not found in dataset.\")\n",
    "            ymal_label.pack_forget()\n",
    "            ymal_tree.pack_forget()\n",
    "            ymal_details_label.pack_forget()\n",
    "            ymal_details_text.pack_forget()\n",
    "    else:\n",
    "        details_text.config(text=\"\")\n",
    "        ymal_label.pack_forget()\n",
    "        ymal_tree.pack_forget()\n",
    "        ymal_details_label.pack_forget()\n",
    "        ymal_details_text.pack_forget()\n",
    "\n",
    "def display_ymal_details(event):\n",
    "    \"\"\"\n",
    "    Displays details of a selected movie from the 'You May Also Like' table.\n",
    "    \"\"\"\n",
    "    selected = ymal_tree.selection()\n",
    "    if selected:\n",
    "        item = ymal_tree.item(selected, \"values\")\n",
    "        movie_name = item[1]  # Movie Name is the second column\n",
    "        try:\n",
    "            row = data[data['Movie'] == movie_name].iloc[0]\n",
    "            runtime = row['Runtime'] if row['Runtime'] != 'Unknown' else 'Unknown'\n",
    "            ymal_details_text.config(text=f\"Year: {row['Year']}\\n\"\n",
    "                                         f\"Genre: {', '.join(row['Genre'])}\\n\"\n",
    "                                         f\"Certificate: {row['Certificate']}\\n\"\n",
    "                                         f\"Overview: {row['Overview']}\\n\"\n",
    "                                         f\"Runtime: {runtime}\\n\"\n",
    "                                         f\"Rating: {row['Rating']}\\n\")\n",
    "        except IndexError:\n",
    "            ymal_details_text.config(text=\"Error: Movie not found in dataset.\")\n",
    "    else:\n",
    "        ymal_details_text.config(text=\"\")\n",
    "\n",
    "# Bind events\n",
    "recommend_button.config(command=handle_recommend_movies)\n",
    "movie_tree.bind(\"<<TreeviewSelect>>\", display_movie_details)\n",
    "ymal_tree.bind(\"<<TreeviewSelect>>\", display_ymal_details)\n",
    "\n",
    "# Start the GUI\n",
    "window.mainloop()"
   ]
  },
  {
   "cell_type": "markdown",
   "id": "4d7e4654-5cb6-40f2-bf0c-5af8a9ff5c9a",
   "metadata": {},
   "source": [
    "## 6. Summary & Next Steps\n",
    "\n",
    "This notebook presented a genre-based movie recommendation engine tailored for Telugu cinema using content-based filtering. Here's a quick recap of what we achieved:\n",
    "\n",
    "- 📊 **Data Cleaning**: Handled missing and inconsistent values in movie metadata.\n",
    "- 📈 **EDA**: Analyzed genre popularity, runtime, and release year trends.\n",
    "- 🧠 **Feature Engineering**: Vectorized genre and overview data using TF-IDF.\n",
    "- 🧮 **Similarity Computation**: Calculated cosine similarity for genre and plot embeddings.\n",
    "- 🎬 **Recommendation System**: Built functions to recommend movies by genre and content.\n",
    "- 🖥️ **Interactive GUI**: Enabled user interaction through a Tkinter interface.\n",
    "\n",
    "###  Strengths\n",
    "- Doesn't rely on user history, so it works well for cold-start scenarios.\n",
    "- Fully localized to Telugu content—a niche often underrepresented.\n",
    "- Transparent and explainable logic (TF-IDF + similarity).\n",
    "\n",
    "###  Potential Improvements\n",
    "- Incorporate collaborative filtering to account for user behavior.\n",
    "- Add external metadata (director, actors, keywords) for hybrid recommendations.\n",
    "- Replace TF-IDF with transformer-based embeddings for deeper plot understanding.\n",
    "- Deploy the system as a web app using Streamlit or Flask.\n"
   ]
  }
 ],
 "metadata": {
  "kernelspec": {
   "display_name": "Python [conda env:base] *",
   "language": "python",
   "name": "conda-base-py"
  },
  "language_info": {
   "codemirror_mode": {
    "name": "ipython",
    "version": 3
   },
   "file_extension": ".py",
   "mimetype": "text/x-python",
   "name": "python",
   "nbconvert_exporter": "python",
   "pygments_lexer": "ipython3",
   "version": "3.12.7"
  }
 },
 "nbformat": 4,
 "nbformat_minor": 5
}
